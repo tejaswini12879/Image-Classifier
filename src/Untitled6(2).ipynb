{
  "nbformat": 4,
  "nbformat_minor": 0,
  "metadata": {
    "colab": {
      "name": "Untitled6.ipynb",
      "provenance": []
    },
    "kernelspec": {
      "name": "python3",
      "display_name": "Python 3"
    },
    "language_info": {
      "name": "python"
    },
    "accelerator": "GPU"
  },
  "cells": [
    {
      "cell_type": "code",
      "metadata": {
        "colab": {
          "base_uri": "https://localhost:8080/"
        },
        "id": "w4m3-AThbIJU",
        "outputId": "5081e231-9a1e-4502-85a5-cde23665f9a5"
      },
      "source": [
        "from google.colab import drive    \n",
        " \n",
        "drive.mount('/content/drive')\n",
        "test_path='/content/drive/MyDrive/test_images'\n",
        "train_path='/content/drive/MyDrive/train_images'\n",
        "train_cpath='/content/drive/MyDrive/train.csv'\n",
        "test_cpath='/content/drive/MyDrive/test.csv'"
      ],
      "execution_count": 1,
      "outputs": [
        {
          "output_type": "stream",
          "text": [
            "Drive already mounted at /content/drive; to attempt to forcibly remount, call drive.mount(\"/content/drive\", force_remount=True).\n"
          ],
          "name": "stdout"
        }
      ]
    },
    {
      "cell_type": "code",
      "metadata": {
        "id": "0XR5Kkb7t2Jz"
      },
      "source": [
        "import pandas as pd\n",
        "import numpy as np\n",
        "dataset = pd.read_csv(train_cpath)\n",
        "dataset.values.tolist()\n",
        "L=dataset['ClassName']\n",
        "L1=dataset['ImageId']\n",
        "l=np.unique(np.array(L))\n",
        "l1=np.unique(np.array(L1))\n",
        "img={}\n",
        "cl={}\n",
        "for i in range(len(l)):\n",
        "  cl[i]=l[i]\n",
        "cls_k=list(cl.keys())\n",
        "cls_v=list(cl.values())\n",
        "for i in range(len(dataset)):\n",
        "  img[L1[i]]=cls_k[cls_v.index(L[i])]"
      ],
      "execution_count": 2,
      "outputs": []
    },
    {
      "cell_type": "code",
      "metadata": {
        "id": "WpmC6lH3z-pv"
      },
      "source": [
        "X=[]\n",
        "Y=[]\n",
        "import cv2\n",
        "import os\n",
        "d=0\n",
        "for a,b in img.items():\n",
        "  path=os.path.join(train_path,a)\n",
        "  image=cv2.imread(path,0)\n",
        "  image=cv2.cvtColor(image,cv2.COLOR_GRAY2RGB)\n",
        "  X.append(cv2.resize(image,(150,150)))\n",
        "  Y.append(b)"
      ],
      "execution_count": 3,
      "outputs": []
    },
    {
      "cell_type": "markdown",
      "metadata": {
        "id": "bDZT87yVLW5r"
      },
      "source": [
        "input layer, dense layer,activation,embedding,masking,lambda are core layers\n",
        "Convuluted layers- conv1d,2d,3d\n",
        "\n",
        "A problem with the output feature maps is that they are sensitive to the location of the features in the input. One approach to address this sensitivity is to down sample the feature maps.Pooling layers provide an approach to down sampling feature maps by summarizing the presence of features in patches of the feature map. Two common pooling methods are average pooling and max pooling that summarize the average presence of a feature and the most activated presence of a feature respectively.\n",
        "\n",
        "Maxpooling,Average pooling, globalmax pooling,global average pooling are examples.\n",
        "\n",
        "we have sequential(list of layers)(add,pop methods), functional(industrial uses) and model subclassing(more out of the box cases) for models\n",
        "\n",
        "activation functions include relu,selu,elu,sigmoid,tanh,softmax,softplus,softsign,exponential\n",
        "\n",
        "available optimizers include SGD,RMSprop,Adam, Adadelta, Adagrad, Adamax,Nadam, Ftrl\n"
      ]
    },
    {
      "cell_type": "code",
      "metadata": {
        "id": "e0294ySGFez0",
        "colab": {
          "base_uri": "https://localhost:8080/"
        },
        "outputId": "64682ad4-6d77-467a-cbb6-56b6d4ce4308"
      },
      "source": [
        "from sklearn.model_selection import train_test_split\n",
        "X=X[0:5001]\n",
        "Y=Y[0:5001]\n",
        "X_train,X_valid,Y_train,Y_valid=train_test_split(X,Y)\n",
        "X_train=np.asarray(X_train,float)/256\n",
        "Y_train=np.asarray(Y_train)\n",
        "X_valid=np.asarray(X_valid,float)/256\n",
        "Y_valid=np.asarray(Y_valid)\n",
        "from keras.utils import to_categorical\n",
        "from tensorflow.keras import layers\n",
        "from keras.layers import Dense,Conv2D,Flatten,MaxPool2D,Dropout\n",
        "from keras.models import Sequential\n",
        "from tensorflow.keras import activations\n",
        "from tensorflow.keras import regularizers\n",
        "model= Sequential()\n",
        "model.add(Conv2D(kernel_size=(3,3), filters=32, activation='relu', input_shape=(150,150,3),activity_regularizer=regularizers.L2(0.01)))\n",
        "model.add(Dense(20,activation='relu'))\n",
        "model.add(layers.Activation(activations.relu))\n",
        "model.add(Conv2D(kernel_size = (3,3),filters=64,activation='relu',activity_regularizer=regularizers.L2(0.01)))\n",
        "model.add(MaxPool2D(pool_size=(2,2),strides=(1, 1), padding='valid'))\n",
        "model.add(Conv2D(kernel_size=(3,3),filters=128,activation='relu',activity_regularizer=regularizers.L2(0.01)))\n",
        "model.add(MaxPool2D(pool_size=(2,2),strides=(1, 1), padding='valid'))\n",
        "model.add(Conv2D(kernel_size=(3,3),filters=256,activation='relu',activity_regularizer=regularizers.L2(0.01)))\n",
        "model.add(Flatten())\n",
        "model.add(Dense(61,activation = 'softmax'))\n",
        "    \n",
        "model.compile(loss='sparse_categorical_crossentropy',metrics=['acc'], optimizer='SGD')\n",
        "m = model.fit(X_train,Y_train,epochs=50,batch_size=8,validation_data=(X_valid,Y_valid))"
      ],
      "execution_count": null,
      "outputs": [
        {
          "output_type": "stream",
          "text": [
            "Epoch 1/50\n",
            "469/469 [==============================] - 72s 142ms/step - loss: 8.6706 - acc: 0.0805 - val_loss: 4.0491 - val_acc: 0.0847\n",
            "Epoch 2/50\n",
            "469/469 [==============================] - 65s 138ms/step - loss: 4.0367 - acc: 0.0889 - val_loss: 3.9973 - val_acc: 0.0847\n",
            "Epoch 3/50\n",
            "469/469 [==============================] - 65s 139ms/step - loss: 3.9853 - acc: 0.0838 - val_loss: 3.9555 - val_acc: 0.0847\n",
            "Epoch 4/50\n",
            "469/469 [==============================] - 65s 139ms/step - loss: 3.9504 - acc: 0.0833 - val_loss: 3.9227 - val_acc: 0.0847\n",
            "Epoch 5/50\n",
            "469/469 [==============================] - 65s 139ms/step - loss: 3.9079 - acc: 0.0991 - val_loss: 3.8974 - val_acc: 0.0847\n",
            "Epoch 6/50\n",
            "469/469 [==============================] - 65s 139ms/step - loss: 3.9001 - acc: 0.0841 - val_loss: 3.8780 - val_acc: 0.0847\n",
            "Epoch 7/50\n",
            "469/469 [==============================] - 65s 139ms/step - loss: 3.8795 - acc: 0.0924 - val_loss: 3.8630 - val_acc: 0.0847\n",
            "Epoch 8/50\n",
            "469/469 [==============================] - 65s 139ms/step - loss: 3.8552 - acc: 0.0922 - val_loss: 3.8514 - val_acc: 0.0847\n",
            "Epoch 9/50\n",
            "469/469 [==============================] - 65s 139ms/step - loss: 3.8256 - acc: 0.0937 - val_loss: 3.8421 - val_acc: 0.0847\n",
            "Epoch 10/50\n",
            "469/469 [==============================] - 65s 139ms/step - loss: 3.8479 - acc: 0.0904 - val_loss: 3.8346 - val_acc: 0.0847\n",
            "Epoch 11/50\n",
            "469/469 [==============================] - 65s 139ms/step - loss: 3.8461 - acc: 0.0878 - val_loss: 3.8286 - val_acc: 0.0847\n",
            "Epoch 12/50\n",
            "469/469 [==============================] - 65s 139ms/step - loss: 3.8213 - acc: 0.0917 - val_loss: 3.8236 - val_acc: 0.0847\n",
            "Epoch 13/50\n",
            "469/469 [==============================] - 65s 139ms/step - loss: 3.8282 - acc: 0.0888 - val_loss: 3.8193 - val_acc: 0.0847\n",
            "Epoch 14/50\n",
            "469/469 [==============================] - 65s 139ms/step - loss: 3.8286 - acc: 0.0909 - val_loss: 3.8157 - val_acc: 0.0847\n",
            "Epoch 15/50\n",
            "469/469 [==============================] - 65s 139ms/step - loss: 3.8241 - acc: 0.0884 - val_loss: 3.8127 - val_acc: 0.0847\n",
            "Epoch 16/50\n",
            "469/469 [==============================] - 65s 139ms/step - loss: 3.7931 - acc: 0.0997 - val_loss: 3.8101 - val_acc: 0.0847\n",
            "Epoch 17/50\n",
            "469/469 [==============================] - 65s 139ms/step - loss: 3.8326 - acc: 0.0890 - val_loss: 3.8078 - val_acc: 0.0847\n",
            "Epoch 18/50\n",
            "469/469 [==============================] - 65s 139ms/step - loss: 3.7955 - acc: 0.0910 - val_loss: 3.8058 - val_acc: 0.0847\n",
            "Epoch 19/50\n",
            "469/469 [==============================] - 65s 139ms/step - loss: 3.8107 - acc: 0.0932 - val_loss: 3.8041 - val_acc: 0.0847\n",
            "Epoch 20/50\n",
            "469/469 [==============================] - 65s 139ms/step - loss: 3.8212 - acc: 0.0901 - val_loss: 3.8026 - val_acc: 0.0847\n",
            "Epoch 21/50\n",
            "469/469 [==============================] - 65s 139ms/step - loss: 3.8123 - acc: 0.0926 - val_loss: 3.8012 - val_acc: 0.0847\n",
            "Epoch 22/50\n",
            "469/469 [==============================] - 65s 139ms/step - loss: 3.8112 - acc: 0.0875 - val_loss: 3.8000 - val_acc: 0.0847\n",
            "Epoch 23/50\n",
            "469/469 [==============================] - 65s 139ms/step - loss: 3.8216 - acc: 0.0899 - val_loss: 3.7989 - val_acc: 0.0847\n",
            "Epoch 24/50\n",
            "469/469 [==============================] - 65s 139ms/step - loss: 3.8239 - acc: 0.0899 - val_loss: 3.7979 - val_acc: 0.0847\n",
            "Epoch 25/50\n",
            "469/469 [==============================] - 65s 139ms/step - loss: 3.8076 - acc: 0.0933 - val_loss: 3.7970 - val_acc: 0.0847\n",
            "Epoch 26/50\n",
            "469/469 [==============================] - 65s 139ms/step - loss: 3.8161 - acc: 0.0865 - val_loss: 3.7962 - val_acc: 0.0847\n",
            "Epoch 27/50\n",
            "469/469 [==============================] - 65s 139ms/step - loss: 3.7951 - acc: 0.0921 - val_loss: 3.7955 - val_acc: 0.0847\n",
            "Epoch 28/50\n",
            "469/469 [==============================] - 65s 139ms/step - loss: 3.7895 - acc: 0.0892 - val_loss: 3.7948 - val_acc: 0.0847\n",
            "Epoch 29/50\n",
            "469/469 [==============================] - 66s 140ms/step - loss: 3.8017 - acc: 0.0834 - val_loss: 3.7942 - val_acc: 0.0847\n",
            "Epoch 30/50\n",
            "469/469 [==============================] - 66s 140ms/step - loss: 3.8053 - acc: 0.0926 - val_loss: 3.7937 - val_acc: 0.0847\n",
            "Epoch 31/50\n",
            "469/469 [==============================] - 66s 141ms/step - loss: 3.7729 - acc: 0.0938 - val_loss: 3.7931 - val_acc: 0.0847\n",
            "Epoch 32/50\n",
            "469/469 [==============================] - 66s 140ms/step - loss: 3.7964 - acc: 0.0984 - val_loss: 3.7927 - val_acc: 0.0847\n",
            "Epoch 33/50\n",
            "469/469 [==============================] - 66s 140ms/step - loss: 3.7942 - acc: 0.0996 - val_loss: 3.7922 - val_acc: 0.0847\n",
            "Epoch 34/50\n",
            "469/469 [==============================] - 66s 140ms/step - loss: 3.8301 - acc: 0.0938 - val_loss: 3.7918 - val_acc: 0.0847\n",
            "Epoch 35/50\n",
            "469/469 [==============================] - 66s 140ms/step - loss: 3.8071 - acc: 0.0901 - val_loss: 3.7915 - val_acc: 0.0847\n",
            "Epoch 36/50\n",
            "469/469 [==============================] - 65s 140ms/step - loss: 3.8037 - acc: 0.0848 - val_loss: 3.7912 - val_acc: 0.0847\n",
            "Epoch 37/50\n",
            "469/469 [==============================] - 65s 140ms/step - loss: 3.8290 - acc: 0.0834 - val_loss: 3.7909 - val_acc: 0.0847\n",
            "Epoch 38/50\n",
            "469/469 [==============================] - 65s 140ms/step - loss: 3.7881 - acc: 0.0949 - val_loss: 3.7906 - val_acc: 0.0847\n",
            "Epoch 39/50\n",
            "469/469 [==============================] - 65s 140ms/step - loss: 3.8047 - acc: 0.0854 - val_loss: 3.7903 - val_acc: 0.0847\n",
            "Epoch 40/50\n",
            "469/469 [==============================] - 65s 139ms/step - loss: 3.7977 - acc: 0.0853 - val_loss: 3.7901 - val_acc: 0.0847\n",
            "Epoch 41/50\n",
            "469/469 [==============================] - 65s 140ms/step - loss: 3.8163 - acc: 0.0874 - val_loss: 3.7899 - val_acc: 0.0847\n",
            "Epoch 42/50\n",
            "469/469 [==============================] - 65s 140ms/step - loss: 3.7880 - acc: 0.0923 - val_loss: 3.7897 - val_acc: 0.0847\n",
            "Epoch 43/50\n",
            "469/469 [==============================] - 65s 139ms/step - loss: 3.8013 - acc: 0.0975 - val_loss: 3.7895 - val_acc: 0.0847\n",
            "Epoch 44/50\n",
            "469/469 [==============================] - 65s 139ms/step - loss: 3.8400 - acc: 0.0823 - val_loss: 3.7893 - val_acc: 0.0847\n",
            "Epoch 45/50\n",
            "469/469 [==============================] - 65s 140ms/step - loss: 3.8033 - acc: 0.0938 - val_loss: 3.7892 - val_acc: 0.0847\n",
            "Epoch 46/50\n",
            "469/469 [==============================] - 65s 139ms/step - loss: 3.8051 - acc: 0.0952 - val_loss: 3.7890 - val_acc: 0.0847\n",
            "Epoch 47/50\n",
            "469/469 [==============================] - 65s 140ms/step - loss: 3.7993 - acc: 0.0827 - val_loss: 3.7889 - val_acc: 0.0847\n",
            "Epoch 48/50\n",
            "469/469 [==============================] - 65s 140ms/step - loss: 3.8195 - acc: 0.0928 - val_loss: 3.7887 - val_acc: 0.0847\n",
            "Epoch 49/50\n",
            "469/469 [==============================] - 65s 140ms/step - loss: 3.7804 - acc: 0.0934 - val_loss: 3.7886 - val_acc: 0.0847\n",
            "Epoch 50/50\n",
            "469/469 [==============================] - 65s 140ms/step - loss: 3.8062 - acc: 0.0826 - val_loss: 3.7885 - val_acc: 0.0847\n"
          ],
          "name": "stdout"
        }
      ]
    },
    {
      "cell_type": "markdown",
      "metadata": {
        "id": "F5YmLhNASIaa"
      },
      "source": [
        "The number of examples from the training dataset used in the estimate of the error gradient is called the batch size and is an important hyperparameter that influences the dynamics of the learning algorithm.Batch size controls the accuracy of the estimate of the error gradient when training neural networks.\n",
        "\n",
        "Stochastic gradient descent:-\n",
        "batch size =1\n",
        "Batch gradient descent:-\n",
        "batch size=len(X_train)\n",
        "Mini batch gradient descent:-\n",
        "len(X_train)>batch size>1 \n",
        "\n",
        "An epoch is one learning cycle where the learner sees the whole training data set. If you have two batches, the learner needs to go through two iterations for one epoch"
      ]
    },
    {
      "cell_type": "code",
      "metadata": {
        "colab": {
          "base_uri": "https://localhost:8080/",
          "height": 624
        },
        "id": "Zvn5tKEcRtAw",
        "outputId": "b8b36f76-b109-4028-b9dd-62e44b34e0e4"
      },
      "source": [
        "import matplotlib.pyplot as plt\n",
        "\n",
        "plt.figure(figsize=(10,10))\n",
        "plt.subplot(121)\n",
        "plt.title('accuracy')\n",
        "plt.plot(m.history['acc'])\n",
        "plt.plot(m.history['val_acc'])\n",
        "plt.legend(['train','val'])\n",
        "\n",
        "plt.subplot(122)\n",
        "plt.title('loss')\n",
        "plt.plot(m.history['loss'])\n",
        "plt.plot(m.history['val_loss'])\n",
        "plt.legend(['train','val'])"
      ],
      "execution_count": null,
      "outputs": [
        {
          "output_type": "execute_result",
          "data": {
            "text/plain": [
              "<matplotlib.legend.Legend at 0x7fd1e77d9f10>"
            ]
          },
          "metadata": {
            "tags": []
          },
          "execution_count": 5
        },
        {
          "output_type": "display_data",
          "data": {
            "image/png": "[encoded data removed]",
            "text/plain": [
              "<Figure size 720x720 with 2 Axes>"
            ]
          },
          "metadata": {
            "tags": [],
            "needs_background": "light"
          }
        }
      ]
    },
    {
      "cell_type": "markdown",
      "metadata": {
        "id": "F1pvv5lrMdfv"
      },
      "source": [
        "experimenting with activation functions"
      ]
    },
    {
      "cell_type": "markdown",
      "metadata": {
        "id": "EEIvRmCRNAai"
      },
      "source": [
        "sigmoid , tanh, exponential activation functions"
      ]
    },
    {
      "cell_type": "code",
      "metadata": {
        "colab": {
          "base_uri": "https://localhost:8080/"
        },
        "id": "KHjvZO0dMc82",
        "outputId": "5de58b26-95b6-4a27-9d76-a152d7926201"
      },
      "source": [
        "from sklearn.model_selection import train_test_split\n",
        "X=X[0:5001]\n",
        "Y=Y[0:5001]\n",
        "X_train,X_valid,Y_train,Y_valid=train_test_split(X,Y)\n",
        "X_train=np.asarray(X_train,float)/256\n",
        "Y_train=np.asarray(Y_train)\n",
        "X_valid=np.asarray(X_valid,float)/256\n",
        "Y_valid=np.asarray(Y_valid)\n",
        "from keras.utils import to_categorical\n",
        "from tensorflow.keras import layers\n",
        "from keras.layers import Dense,Conv2D,Flatten,MaxPool2D,Dropout\n",
        "from keras.models import Sequential\n",
        "from tensorflow.keras import activations\n",
        "from tensorflow.keras import regularizers\n",
        "model= Sequential()\n",
        "model.add(Conv2D(kernel_size=(3,3), filters=32, activation='relu', input_shape=(150,150,3)))\n",
        "model.add(Dense(20,activation='relu'))\n",
        "model.add(layers.Activation(activations.sigmoid))\n",
        "model.add(Conv2D(kernel_size = (3,3),filters=64,activation='sigmoid'))\n",
        "model.add(MaxPool2D(pool_size=(2,2),strides=(1, 1), padding='valid'))\n",
        "model.add(Conv2D(kernel_size=(3,3),filters=128,activation='sigmoid'))\n",
        "model.add(MaxPool2D(pool_size=(2,2),strides=(1, 1), padding='valid'))\n",
        "model.add(Conv2D(kernel_size=(3,3),filters=256,activation='sigmoid'))\n",
        "model.add(Flatten())\n",
        "model.add(Dense(61,activation = 'sigmoid'))\n",
        "    \n",
        "model.compile(loss='sparse_categorical_crossentropy',metrics=['acc'], optimizer='SGD')\n",
        "m = model.fit(X_train,Y_train,epochs=50,batch_size=8,validation_data=(X_valid,Y_valid))"
      ],
      "execution_count": null,
      "outputs": [
        {
          "output_type": "stream",
          "text": [
            "Epoch 1/50\n",
            "469/469 [==============================] - 102s 147ms/step - loss: 26.1445 - acc: 0.0832 - val_loss: 3.8693 - val_acc: 0.0927\n",
            "Epoch 2/50\n",
            "469/469 [==============================] - 71s 150ms/step - loss: 3.9781 - acc: 0.0838 - val_loss: 3.9599 - val_acc: 0.0927\n",
            "Epoch 3/50\n",
            "469/469 [==============================] - 70s 150ms/step - loss: 3.9393 - acc: 0.0783 - val_loss: 3.8678 - val_acc: 0.0927\n",
            "Epoch 4/50\n",
            "469/469 [==============================] - 70s 149ms/step - loss: 3.8769 - acc: 0.0840 - val_loss: 4.6685 - val_acc: 0.0472\n",
            "Epoch 5/50\n",
            "469/469 [==============================] - 70s 149ms/step - loss: 3.9098 - acc: 0.0910 - val_loss: 3.8125 - val_acc: 0.0927\n",
            "Epoch 6/50\n",
            "469/469 [==============================] - 70s 150ms/step - loss: 3.8377 - acc: 0.0893 - val_loss: 3.8066 - val_acc: 0.0927\n",
            "Epoch 7/50\n",
            "469/469 [==============================] - 70s 150ms/step - loss: 3.8033 - acc: 0.0918 - val_loss: 3.8080 - val_acc: 0.0927\n",
            "Epoch 8/50\n",
            "469/469 [==============================] - 70s 150ms/step - loss: 3.8273 - acc: 0.0830 - val_loss: 3.8197 - val_acc: 0.0927\n",
            "Epoch 9/50\n",
            "469/469 [==============================] - 70s 150ms/step - loss: 3.8229 - acc: 0.0834 - val_loss: 3.8101 - val_acc: 0.0927\n",
            "Epoch 10/50\n",
            "469/469 [==============================] - 70s 149ms/step - loss: 3.7964 - acc: 0.0873 - val_loss: 3.8154 - val_acc: 0.0927\n",
            "Epoch 11/50\n",
            "469/469 [==============================] - 70s 149ms/step - loss: 3.7917 - acc: 0.0851 - val_loss: 3.8090 - val_acc: 0.0927\n",
            "Epoch 12/50\n",
            "469/469 [==============================] - 70s 149ms/step - loss: 3.8015 - acc: 0.0844 - val_loss: 3.8091 - val_acc: 0.0927\n",
            "Epoch 13/50\n",
            "469/469 [==============================] - 70s 149ms/step - loss: 3.8167 - acc: 0.0893 - val_loss: 3.8051 - val_acc: 0.0927\n",
            "Epoch 14/50\n",
            "469/469 [==============================] - 70s 149ms/step - loss: 3.7965 - acc: 0.0920 - val_loss: 3.8143 - val_acc: 0.0927\n",
            "Epoch 15/50\n",
            "469/469 [==============================] - 70s 149ms/step - loss: 3.8109 - acc: 0.0818 - val_loss: 3.8163 - val_acc: 0.0927\n",
            "Epoch 16/50\n",
            "469/469 [==============================] - 70s 149ms/step - loss: 3.8181 - acc: 0.0853 - val_loss: 3.8167 - val_acc: 0.0927\n",
            "Epoch 17/50\n",
            "469/469 [==============================] - 70s 149ms/step - loss: 3.8054 - acc: 0.0802 - val_loss: 3.8061 - val_acc: 0.0927\n",
            "Epoch 18/50\n",
            "469/469 [==============================] - 70s 149ms/step - loss: 3.8096 - acc: 0.0896 - val_loss: 3.8094 - val_acc: 0.0927\n",
            "Epoch 19/50\n",
            "469/469 [==============================] - 70s 150ms/step - loss: 3.8015 - acc: 0.0914 - val_loss: 3.8094 - val_acc: 0.0927\n",
            "Epoch 20/50\n",
            "469/469 [==============================] - 70s 149ms/step - loss: 3.8107 - acc: 0.0830 - val_loss: 3.8051 - val_acc: 0.0927\n",
            "Epoch 21/50\n",
            "469/469 [==============================] - 70s 149ms/step - loss: 3.8166 - acc: 0.0830 - val_loss: 3.8049 - val_acc: 0.0927\n",
            "Epoch 22/50\n",
            "469/469 [==============================] - 70s 149ms/step - loss: 3.8122 - acc: 0.0883 - val_loss: 3.8083 - val_acc: 0.0927\n",
            "Epoch 23/50\n",
            "469/469 [==============================] - 70s 149ms/step - loss: 3.7888 - acc: 0.0867 - val_loss: 3.8084 - val_acc: 0.0927\n",
            "Epoch 24/50\n",
            "469/469 [==============================] - 70s 149ms/step - loss: 3.8076 - acc: 0.0846 - val_loss: 3.8096 - val_acc: 0.0927\n",
            "Epoch 25/50\n",
            "469/469 [==============================] - 70s 149ms/step - loss: 3.7984 - acc: 0.0888 - val_loss: 3.8089 - val_acc: 0.0927\n",
            "Epoch 26/50\n",
            "469/469 [==============================] - 70s 149ms/step - loss: 3.8386 - acc: 0.0824 - val_loss: 3.8078 - val_acc: 0.0927\n",
            "Epoch 27/50\n",
            "469/469 [==============================] - 70s 149ms/step - loss: 3.7952 - acc: 0.0928 - val_loss: 3.8074 - val_acc: 0.0927\n",
            "Epoch 28/50\n",
            "469/469 [==============================] - 70s 149ms/step - loss: 3.8196 - acc: 0.0889 - val_loss: 3.8127 - val_acc: 0.0927\n",
            "Epoch 29/50\n",
            "469/469 [==============================] - 70s 149ms/step - loss: 3.8306 - acc: 0.0852 - val_loss: 3.8168 - val_acc: 0.0927\n",
            "Epoch 30/50\n",
            "469/469 [==============================] - 70s 149ms/step - loss: 3.8115 - acc: 0.0881 - val_loss: 3.8097 - val_acc: 0.0927\n",
            "Epoch 31/50\n",
            "469/469 [==============================] - 70s 149ms/step - loss: 3.7974 - acc: 0.0873 - val_loss: 3.8072 - val_acc: 0.0927\n",
            "Epoch 32/50\n",
            "469/469 [==============================] - 70s 149ms/step - loss: 3.8226 - acc: 0.0783 - val_loss: 3.8562 - val_acc: 0.0927\n",
            "Epoch 33/50\n",
            "469/469 [==============================] - 70s 149ms/step - loss: 3.8078 - acc: 0.0906 - val_loss: 3.8623 - val_acc: 0.0927\n",
            "Epoch 34/50\n",
            "469/469 [==============================] - 70s 149ms/step - loss: 3.8351 - acc: 0.0836 - val_loss: 3.8068 - val_acc: 0.0927\n",
            "Epoch 35/50\n",
            "469/469 [==============================] - 70s 149ms/step - loss: 3.8106 - acc: 0.0917 - val_loss: 3.8058 - val_acc: 0.0927\n",
            "Epoch 36/50\n",
            "469/469 [==============================] - 70s 149ms/step - loss: 3.8050 - acc: 0.0926 - val_loss: 3.8336 - val_acc: 0.0927\n",
            "Epoch 37/50\n",
            "469/469 [==============================] - 70s 149ms/step - loss: 3.8135 - acc: 0.0772 - val_loss: 3.8078 - val_acc: 0.0927\n",
            "Epoch 38/50\n",
            "469/469 [==============================] - 70s 149ms/step - loss: 3.7929 - acc: 0.0884 - val_loss: 3.8102 - val_acc: 0.0927\n",
            "Epoch 39/50\n",
            "469/469 [==============================] - 70s 149ms/step - loss: 3.7985 - acc: 0.0850 - val_loss: 3.8072 - val_acc: 0.0927\n",
            "Epoch 40/50\n",
            "469/469 [==============================] - 70s 150ms/step - loss: 3.7867 - acc: 0.0947 - val_loss: 3.8055 - val_acc: 0.0927\n",
            "Epoch 41/50\n",
            "469/469 [==============================] - 70s 150ms/step - loss: 3.8099 - acc: 0.0859 - val_loss: 3.8061 - val_acc: 0.0927\n",
            "Epoch 42/50\n",
            "469/469 [==============================] - 70s 149ms/step - loss: 3.8154 - acc: 0.0806 - val_loss: 3.8089 - val_acc: 0.0927\n",
            "Epoch 43/50\n",
            "469/469 [==============================] - 70s 150ms/step - loss: 3.8125 - acc: 0.0881 - val_loss: 3.8045 - val_acc: 0.0927\n",
            "Epoch 44/50\n",
            "469/469 [==============================] - 70s 149ms/step - loss: 3.8052 - acc: 0.0876 - val_loss: 3.8061 - val_acc: 0.0927\n",
            "Epoch 45/50\n",
            "469/469 [==============================] - 70s 149ms/step - loss: 3.7762 - acc: 0.0891 - val_loss: 3.8107 - val_acc: 0.0927\n",
            "Epoch 46/50\n",
            "469/469 [==============================] - 70s 149ms/step - loss: 3.7870 - acc: 0.0840 - val_loss: 3.8039 - val_acc: 0.0927\n",
            "Epoch 47/50\n",
            "469/469 [==============================] - 70s 149ms/step - loss: 3.7970 - acc: 0.0874 - val_loss: 3.8051 - val_acc: 0.0927\n",
            "Epoch 48/50\n",
            "469/469 [==============================] - 70s 149ms/step - loss: 3.8083 - acc: 0.0911 - val_loss: 3.8048 - val_acc: 0.0927\n",
            "Epoch 49/50\n",
            "469/469 [==============================] - 70s 149ms/step - loss: 3.8073 - acc: 0.0850 - val_loss: 3.8056 - val_acc: 0.0927\n",
            "Epoch 50/50\n",
            "469/469 [==============================] - 70s 149ms/step - loss: 3.7981 - acc: 0.0857 - val_loss: 3.8117 - val_acc: 0.0927\n"
          ],
          "name": "stdout"
        }
      ]
    },
    {
      "cell_type": "code",
      "metadata": {
        "colab": {
          "base_uri": "https://localhost:8080/",
          "height": 624
        },
        "id": "sV0EQHGcDaHD",
        "outputId": "652cd271-2d60-4735-ce95-93aa7e63d3ff"
      },
      "source": [
        "import matplotlib.pyplot as plt\n",
        "\n",
        "plt.figure(figsize=(10,10))\n",
        "plt.subplot(121)\n",
        "plt.title('accuracy')\n",
        "plt.plot(m.history['acc'])\n",
        "plt.plot(m.history['val_acc'])\n",
        "plt.legend(['train','val'])\n",
        "\n",
        "plt.subplot(122)\n",
        "plt.title('loss')\n",
        "plt.plot(m.history['loss'])\n",
        "plt.plot(m.history['val_loss'])\n",
        "plt.legend(['train','val'])"
      ],
      "execution_count": null,
      "outputs": [
        {
          "output_type": "execute_result",
          "data": {
            "text/plain": [
              "<matplotlib.legend.Legend at 0x7f4689552f10>"
            ]
          },
          "metadata": {
            "tags": []
          },
          "execution_count": 6
        },
        {
          "output_type": "display_data",
          "data": {
            "image/png": "[encoded data removed]",
            "text/plain": [
              "<Figure size 720x720 with 2 Axes>"
            ]
          },
          "metadata": {
            "tags": [],
            "needs_background": "light"
          }
        }
      ]
    },
    {
      "cell_type": "code",
      "metadata": {
        "colab": {
          "base_uri": "https://localhost:8080/"
        },
        "id": "8jlEMng1NIIa",
        "outputId": "73f22372-cc9d-46f8-dd5c-18e611ae17ad"
      },
      "source": [
        "from sklearn.model_selection import train_test_split\n",
        "X=X[0:5001]\n",
        "Y=Y[0:5001]\n",
        "X_train,X_valid,Y_train,Y_valid=train_test_split(X,Y)\n",
        "X_train=np.asarray(X_train,float)/256\n",
        "Y_train=np.asarray(Y_train)\n",
        "X_valid=np.asarray(X_valid,float)/256\n",
        "Y_valid=np.asarray(Y_valid)\n",
        "from keras.utils import to_categorical\n",
        "from tensorflow.keras import layers\n",
        "from keras.layers import Dense,Conv2D,Flatten,MaxPool2D,Dropout\n",
        "from keras.models import Sequential\n",
        "from tensorflow.keras import activations\n",
        "from tensorflow.keras import regularizers\n",
        "model= Sequential()\n",
        "model.add(Conv2D(kernel_size=(3,3), filters=32, activation='relu', input_shape=(150,150,3),activity_regularizer=regularizers.L2(0.01)))\n",
        "model.add(Dense(20,activation='relu'))\n",
        "model.add(layers.Activation(activations.sigmoid))\n",
        "model.add(Conv2D(kernel_size = (3,3),filters=64,activation='tanh',activity_regularizer=regularizers.L2(0.01)))\n",
        "model.add(MaxPool2D(pool_size=(2,2),strides=(1, 1), padding='valid'))\n",
        "model.add(Conv2D(kernel_size=(3,3),filters=128,activation='tanh',activity_regularizer=regularizers.L2(0.01)))\n",
        "model.add(MaxPool2D(pool_size=(2,2),strides=(1, 1), padding='valid'))\n",
        "model.add(Conv2D(kernel_size=(3,3),filters=256,activation='tanh',activity_regularizer=regularizers.L2(0.01)))\n",
        "model.add(Flatten())\n",
        "model.add(Dense(61,activation = 'tanh'))\n",
        "    \n",
        "model.compile(loss='sparse_categorical_crossentropy',metrics=['acc'], optimizer='SGD')\n",
        "m = model.fit(X_train,Y_train,epochs=50,batch_size=8,validation_data=(X_valid,Y_valid))"
      ],
      "execution_count": 4,
      "outputs": [
        {
          "output_type": "stream",
          "text": [
            "Epoch 1/50\n",
            "469/469 [==============================] - 77s 156ms/step - loss: 88816.8866 - acc: 0.0098 - val_loss: 90005.5469 - val_acc: 0.0080\n",
            "Epoch 2/50\n",
            "469/469 [==============================] - 71s 151ms/step - loss: 90004.7360 - acc: 0.0106 - val_loss: 90005.5469 - val_acc: 0.0080\n",
            "Epoch 3/50\n",
            "469/469 [==============================] - 71s 152ms/step - loss: 90004.6625 - acc: 0.0094 - val_loss: 90005.5469 - val_acc: 0.0080\n",
            "Epoch 4/50\n",
            "469/469 [==============================] - 71s 152ms/step - loss: 90004.6432 - acc: 0.0090 - val_loss: 90005.5469 - val_acc: 0.0080\n",
            "Epoch 5/50\n",
            "469/469 [==============================] - 71s 152ms/step - loss: 90004.1327 - acc: 0.0104 - val_loss: 90005.5469 - val_acc: 0.0080\n",
            "Epoch 6/50\n",
            "469/469 [==============================] - 72s 153ms/step - loss: 90004.3174 - acc: 0.0104 - val_loss: 90005.5469 - val_acc: 0.0080\n",
            "Epoch 7/50\n",
            "469/469 [==============================] - 71s 152ms/step - loss: 90004.5875 - acc: 0.0108 - val_loss: 90005.5469 - val_acc: 0.0080\n",
            "Epoch 8/50\n",
            "469/469 [==============================] - 71s 152ms/step - loss: 90004.8384 - acc: 0.0087 - val_loss: 90005.5469 - val_acc: 0.0080\n",
            "Epoch 9/50\n",
            "469/469 [==============================] - 71s 152ms/step - loss: 90004.8055 - acc: 0.0119 - val_loss: 90005.5469 - val_acc: 0.0080\n",
            "Epoch 10/50\n",
            "469/469 [==============================] - 71s 152ms/step - loss: 90004.4931 - acc: 0.0126 - val_loss: 90005.5469 - val_acc: 0.0080\n",
            "Epoch 11/50\n",
            "469/469 [==============================] - 71s 152ms/step - loss: 90004.2590 - acc: 0.0099 - val_loss: 90005.5469 - val_acc: 0.0080\n",
            "Epoch 12/50\n",
            "469/469 [==============================] - 71s 152ms/step - loss: 90004.7860 - acc: 0.0099 - val_loss: 90005.5469 - val_acc: 0.0080\n",
            "Epoch 13/50\n",
            "469/469 [==============================] - 71s 152ms/step - loss: 90004.8296 - acc: 0.0098 - val_loss: 90005.5469 - val_acc: 0.0080\n",
            "Epoch 14/50\n",
            "469/469 [==============================] - 71s 152ms/step - loss: 90004.6189 - acc: 0.0103 - val_loss: 90005.5469 - val_acc: 0.0080\n",
            "Epoch 15/50\n",
            "469/469 [==============================] - 71s 152ms/step - loss: 90004.4683 - acc: 0.0087 - val_loss: 90005.5469 - val_acc: 0.0080\n",
            "Epoch 16/50\n",
            "469/469 [==============================] - 71s 152ms/step - loss: 90004.7535 - acc: 0.0118 - val_loss: 90005.5469 - val_acc: 0.0080\n",
            "Epoch 17/50\n",
            "469/469 [==============================] - 71s 152ms/step - loss: 90004.6883 - acc: 0.0107 - val_loss: 90005.5469 - val_acc: 0.0080\n",
            "Epoch 18/50\n",
            "469/469 [==============================] - 71s 152ms/step - loss: 90004.9100 - acc: 0.0127 - val_loss: 90005.5469 - val_acc: 0.0080\n",
            "Epoch 19/50\n",
            "469/469 [==============================] - 71s 152ms/step - loss: 90004.6610 - acc: 0.0099 - val_loss: 90005.5469 - val_acc: 0.0080\n",
            "Epoch 20/50\n",
            "469/469 [==============================] - 71s 152ms/step - loss: 90004.3969 - acc: 0.0123 - val_loss: 90005.5469 - val_acc: 0.0080\n",
            "Epoch 21/50\n",
            "469/469 [==============================] - 71s 152ms/step - loss: 90004.5188 - acc: 0.0087 - val_loss: 90005.5469 - val_acc: 0.0080\n",
            "Epoch 22/50\n",
            "469/469 [==============================] - 71s 152ms/step - loss: 90004.6802 - acc: 0.0097 - val_loss: 90005.5469 - val_acc: 0.0080\n",
            "Epoch 23/50\n",
            "469/469 [==============================] - 71s 152ms/step - loss: 90005.0293 - acc: 0.0088 - val_loss: 90005.5469 - val_acc: 0.0080\n",
            "Epoch 24/50\n",
            "469/469 [==============================] - 71s 152ms/step - loss: 90004.6435 - acc: 0.0098 - val_loss: 90005.5469 - val_acc: 0.0080\n",
            "Epoch 25/50\n",
            "469/469 [==============================] - 71s 152ms/step - loss: 90004.8271 - acc: 0.0110 - val_loss: 90005.5469 - val_acc: 0.0080\n",
            "Epoch 26/50\n",
            "469/469 [==============================] - 71s 152ms/step - loss: 90004.7721 - acc: 0.0098 - val_loss: 90005.5469 - val_acc: 0.0080\n",
            "Epoch 27/50\n",
            "469/469 [==============================] - 71s 152ms/step - loss: 90004.6699 - acc: 0.0139 - val_loss: 90005.5469 - val_acc: 0.0080\n",
            "Epoch 28/50\n",
            "469/469 [==============================] - 71s 152ms/step - loss: 90004.7584 - acc: 0.0107 - val_loss: 90005.5469 - val_acc: 0.0080\n",
            "Epoch 29/50\n",
            "469/469 [==============================] - 71s 152ms/step - loss: 90004.5221 - acc: 0.0105 - val_loss: 90005.5469 - val_acc: 0.0080\n",
            "Epoch 30/50\n",
            "469/469 [==============================] - 71s 152ms/step - loss: 90004.0194 - acc: 0.0084 - val_loss: 90005.5469 - val_acc: 0.0080\n",
            "Epoch 31/50\n",
            "469/469 [==============================] - 71s 152ms/step - loss: 90004.4665 - acc: 0.0111 - val_loss: 90005.5469 - val_acc: 0.0080\n",
            "Epoch 32/50\n",
            "469/469 [==============================] - 71s 152ms/step - loss: 90004.7217 - acc: 0.0080 - val_loss: 90005.5391 - val_acc: 0.0080\n",
            "Epoch 33/50\n",
            "469/469 [==============================] - 72s 153ms/step - loss: 90004.6297 - acc: 0.0114 - val_loss: 90005.5469 - val_acc: 0.0080\n",
            "Epoch 34/50\n",
            "469/469 [==============================] - 72s 153ms/step - loss: 90004.4199 - acc: 0.0120 - val_loss: 90005.5469 - val_acc: 0.0080\n",
            "Epoch 35/50\n",
            "469/469 [==============================] - 72s 153ms/step - loss: 90004.2744 - acc: 0.0114 - val_loss: 90005.5469 - val_acc: 0.0080\n",
            "Epoch 36/50\n",
            "469/469 [==============================] - 72s 153ms/step - loss: 90004.2689 - acc: 0.0108 - val_loss: 90005.5469 - val_acc: 0.0080\n",
            "Epoch 37/50\n",
            "469/469 [==============================] - 72s 153ms/step - loss: 90004.7624 - acc: 0.0070 - val_loss: 90005.5469 - val_acc: 0.0080\n",
            "Epoch 38/50\n",
            "469/469 [==============================] - 72s 153ms/step - loss: 90004.2696 - acc: 0.0150 - val_loss: 90005.5469 - val_acc: 0.0080\n",
            "Epoch 39/50\n",
            "469/469 [==============================] - 72s 153ms/step - loss: 90004.0601 - acc: 0.0113 - val_loss: 90005.5469 - val_acc: 0.0080\n",
            "Epoch 40/50\n",
            "469/469 [==============================] - 72s 153ms/step - loss: 90004.5483 - acc: 0.0108 - val_loss: 90005.5469 - val_acc: 0.0080\n",
            "Epoch 41/50\n",
            "469/469 [==============================] - 72s 153ms/step - loss: 90004.5711 - acc: 0.0121 - val_loss: 90005.5469 - val_acc: 0.0080\n",
            "Epoch 42/50\n",
            "469/469 [==============================] - 72s 152ms/step - loss: 90004.5116 - acc: 0.0083 - val_loss: 90005.5391 - val_acc: 0.0080\n",
            "Epoch 43/50\n",
            "469/469 [==============================] - 72s 153ms/step - loss: 90003.1962 - acc: 0.0120 - val_loss: 90005.5469 - val_acc: 0.0080\n",
            "Epoch 44/50\n",
            "469/469 [==============================] - 72s 153ms/step - loss: 90004.6246 - acc: 0.0089 - val_loss: 90005.5469 - val_acc: 0.0080\n",
            "Epoch 45/50\n",
            "469/469 [==============================] - 72s 153ms/step - loss: 90004.7117 - acc: 0.0090 - val_loss: 90005.5469 - val_acc: 0.0080\n",
            "Epoch 46/50\n",
            "469/469 [==============================] - 72s 153ms/step - loss: 90004.0775 - acc: 0.0106 - val_loss: 90005.5469 - val_acc: 0.0080\n",
            "Epoch 47/50\n",
            "469/469 [==============================] - 72s 153ms/step - loss: 90004.6854 - acc: 0.0108 - val_loss: 90005.5391 - val_acc: 0.0080\n",
            "Epoch 48/50\n",
            "469/469 [==============================] - 71s 152ms/step - loss: 90004.4163 - acc: 0.0119 - val_loss: 90005.5469 - val_acc: 0.0080\n",
            "Epoch 49/50\n",
            "469/469 [==============================] - 72s 153ms/step - loss: 90004.7216 - acc: 0.0120 - val_loss: 90005.5469 - val_acc: 0.0080\n",
            "Epoch 50/50\n",
            "469/469 [==============================] - 72s 153ms/step - loss: 90004.7777 - acc: 0.0088 - val_loss: 90005.5469 - val_acc: 0.0080\n"
          ],
          "name": "stdout"
        }
      ]
    },
    {
      "cell_type": "code",
      "metadata": {
        "id": "CsTJIYXuDbmr"
      },
      "source": [
        "import matplotlib.pyplot as plt\n",
        "\n",
        "plt.figure(figsize=(10,10))\n",
        "plt.subplot(121)\n",
        "plt.title('accuracy')\n",
        "plt.plot(m.history['acc'])\n",
        "plt.plot(m.history['val_acc'])\n",
        "plt.legend(['train','val'])\n",
        "\n",
        "plt.subplot(122)\n",
        "plt.title('loss')\n",
        "plt.plot(m.history['loss'])\n",
        "plt.plot(m.history['val_loss'])\n",
        "plt.legend(['train','val'])"
      ],
      "execution_count": null,
      "outputs": []
    },
    {
      "cell_type": "code",
      "metadata": {
        "id": "EBA2c6xRNSf6",
        "colab": {
          "base_uri": "https://localhost:8080/"
        },
        "outputId": "91a78005-99e4-4aa6-873d-399bce1fa098"
      },
      "source": [
        "from sklearn.model_selection import train_test_split\n",
        "X=X[0:5001]\n",
        "Y=Y[0:5001]\n",
        "X_train,X_valid,Y_train,Y_valid=train_test_split(X,Y)\n",
        "X_train=np.asarray(X_train,float)/256\n",
        "Y_train=np.asarray(Y_train)\n",
        "X_valid=np.asarray(X_valid,float)/256\n",
        "Y_valid=np.asarray(Y_valid)\n",
        "from keras.utils import to_categorical\n",
        "from tensorflow.keras import layers\n",
        "from keras.layers import Dense,Conv2D,Flatten,MaxPool2D,Dropout\n",
        "from keras.models import Sequential\n",
        "from tensorflow.keras import activations\n",
        "from tensorflow.keras import regularizers\n",
        "model= Sequential()\n",
        "model.add(Conv2D(kernel_size=(3,3), filters=32, activation='relu', input_shape=(150,150,3),activity_regularizer=regularizers.L2(0.01)))\n",
        "model.add(Dense(20,activation='relu'))\n",
        "model.add(layers.Activation(activations.exponential))\n",
        "model.add(Conv2D(kernel_size = (3,3),filters=64,activation='exponential',activity_regularizer=regularizers.L2(0.01)))\n",
        "model.add(MaxPool2D(pool_size=(2,2),strides=(1, 1), padding='valid'))\n",
        "model.add(Conv2D(kernel_size=(3,3),filters=128,activation='exponential',activity_regularizer=regularizers.L2(0.01)))\n",
        "model.add(MaxPool2D(pool_size=(2,2),strides=(1, 1), padding='valid'))\n",
        "model.add(Conv2D(kernel_size=(3,3),filters=256,activation='exponential',activity_regularizer=regularizers.L2(0.01)))\n",
        "model.add(Flatten())\n",
        "model.add(Dense(61,activation = 'exponential'))\n",
        "    \n",
        "model.compile(loss='sparse_categorical_crossentropy',metrics=['acc'], optimizer='SGD')\n",
        "m = model.fit(X_train,Y_train,epochs=50,batch_size=8,validation_data=(X_valid,Y_valid))"
      ],
      "execution_count": 4,
      "outputs": [
        {
          "output_type": "stream",
          "text": [
            "Epoch 1/50\n",
            "469/469 [==============================] - 77s 146ms/step - loss: nan - acc: 0.0063 - val_loss: nan - val_acc: 0.0032\n",
            "Epoch 2/50\n",
            "469/469 [==============================] - 67s 144ms/step - loss: nan - acc: 0.0050 - val_loss: nan - val_acc: 0.0032\n",
            "Epoch 3/50\n",
            "469/469 [==============================] - 68s 145ms/step - loss: nan - acc: 0.0048 - val_loss: nan - val_acc: 0.0032\n",
            "Epoch 4/50\n",
            "469/469 [==============================] - 69s 146ms/step - loss: nan - acc: 0.0037 - val_loss: nan - val_acc: 0.0032\n",
            "Epoch 5/50\n",
            "469/469 [==============================] - 69s 146ms/step - loss: nan - acc: 0.0067 - val_loss: nan - val_acc: 0.0032\n",
            "Epoch 6/50\n",
            "469/469 [==============================] - 69s 146ms/step - loss: nan - acc: 0.0071 - val_loss: nan - val_acc: 0.0032\n",
            "Epoch 7/50\n",
            "469/469 [==============================] - 69s 147ms/step - loss: nan - acc: 0.0053 - val_loss: nan - val_acc: 0.0032\n",
            "Epoch 8/50\n",
            "469/469 [==============================] - 69s 147ms/step - loss: nan - acc: 0.0080 - val_loss: nan - val_acc: 0.0032\n",
            "Epoch 9/50\n",
            "469/469 [==============================] - 69s 147ms/step - loss: nan - acc: 0.0045 - val_loss: nan - val_acc: 0.0032\n",
            "Epoch 10/50\n",
            "469/469 [==============================] - 69s 147ms/step - loss: nan - acc: 0.0056 - val_loss: nan - val_acc: 0.0032\n",
            "Epoch 11/50\n",
            "469/469 [==============================] - 69s 147ms/step - loss: nan - acc: 0.0057 - val_loss: nan - val_acc: 0.0032\n",
            "Epoch 12/50\n",
            "469/469 [==============================] - 69s 147ms/step - loss: nan - acc: 0.0047 - val_loss: nan - val_acc: 0.0032\n",
            "Epoch 13/50\n",
            "469/469 [==============================] - 69s 147ms/step - loss: nan - acc: 0.0052 - val_loss: nan - val_acc: 0.0032\n",
            "Epoch 14/50\n",
            "469/469 [==============================] - 69s 147ms/step - loss: nan - acc: 0.0048 - val_loss: nan - val_acc: 0.0032\n",
            "Epoch 15/50\n",
            "469/469 [==============================] - 69s 147ms/step - loss: nan - acc: 0.0028 - val_loss: nan - val_acc: 0.0032\n",
            "Epoch 16/50\n",
            "469/469 [==============================] - 69s 147ms/step - loss: nan - acc: 0.0047 - val_loss: nan - val_acc: 0.0032\n",
            "Epoch 17/50\n",
            "469/469 [==============================] - 69s 147ms/step - loss: nan - acc: 0.0037 - val_loss: nan - val_acc: 0.0032\n",
            "Epoch 18/50\n",
            "469/469 [==============================] - 69s 147ms/step - loss: nan - acc: 0.0056 - val_loss: nan - val_acc: 0.0032\n",
            "Epoch 19/50\n",
            "469/469 [==============================] - 69s 146ms/step - loss: nan - acc: 0.0056 - val_loss: nan - val_acc: 0.0032\n",
            "Epoch 20/50\n",
            "469/469 [==============================] - 69s 147ms/step - loss: nan - acc: 0.0051 - val_loss: nan - val_acc: 0.0032\n",
            "Epoch 21/50\n",
            "469/469 [==============================] - 69s 146ms/step - loss: nan - acc: 0.0068 - val_loss: nan - val_acc: 0.0032\n",
            "Epoch 22/50\n",
            "469/469 [==============================] - 69s 147ms/step - loss: nan - acc: 0.0066 - val_loss: nan - val_acc: 0.0032\n",
            "Epoch 23/50\n",
            "469/469 [==============================] - 69s 147ms/step - loss: nan - acc: 0.0053 - val_loss: nan - val_acc: 0.0032\n",
            "Epoch 24/50\n",
            "469/469 [==============================] - 69s 147ms/step - loss: nan - acc: 0.0062 - val_loss: nan - val_acc: 0.0032\n",
            "Epoch 25/50\n",
            "469/469 [==============================] - 69s 147ms/step - loss: nan - acc: 0.0055 - val_loss: nan - val_acc: 0.0032\n",
            "Epoch 26/50\n",
            "469/469 [==============================] - 69s 147ms/step - loss: nan - acc: 0.0040 - val_loss: nan - val_acc: 0.0032\n",
            "Epoch 27/50\n",
            "469/469 [==============================] - 69s 147ms/step - loss: nan - acc: 0.0069 - val_loss: nan - val_acc: 0.0032\n",
            "Epoch 28/50\n",
            "469/469 [==============================] - 69s 147ms/step - loss: nan - acc: 0.0047 - val_loss: nan - val_acc: 0.0032\n",
            "Epoch 29/50\n",
            "469/469 [==============================] - 69s 147ms/step - loss: nan - acc: 0.0048 - val_loss: nan - val_acc: 0.0032\n",
            "Epoch 30/50\n",
            "469/469 [==============================] - 69s 146ms/step - loss: nan - acc: 0.0056 - val_loss: nan - val_acc: 0.0032\n",
            "Epoch 31/50\n",
            "469/469 [==============================] - 69s 146ms/step - loss: nan - acc: 0.0060 - val_loss: nan - val_acc: 0.0032\n",
            "Epoch 32/50\n",
            "469/469 [==============================] - 69s 146ms/step - loss: nan - acc: 0.0051 - val_loss: nan - val_acc: 0.0032\n",
            "Epoch 33/50\n",
            "469/469 [==============================] - 69s 146ms/step - loss: nan - acc: 0.0051 - val_loss: nan - val_acc: 0.0032\n",
            "Epoch 34/50\n",
            "469/469 [==============================] - 69s 146ms/step - loss: nan - acc: 0.0042 - val_loss: nan - val_acc: 0.0032\n",
            "Epoch 35/50\n",
            "469/469 [==============================] - 69s 146ms/step - loss: nan - acc: 0.0044 - val_loss: nan - val_acc: 0.0032\n",
            "Epoch 36/50\n",
            "469/469 [==============================] - 69s 146ms/step - loss: nan - acc: 0.0062 - val_loss: nan - val_acc: 0.0032\n",
            "Epoch 37/50\n",
            "469/469 [==============================] - 69s 146ms/step - loss: nan - acc: 0.0022 - val_loss: nan - val_acc: 0.0032\n",
            "Epoch 38/50\n",
            "469/469 [==============================] - 69s 146ms/step - loss: nan - acc: 0.0051 - val_loss: nan - val_acc: 0.0032\n",
            "Epoch 39/50\n",
            "469/469 [==============================] - 69s 146ms/step - loss: nan - acc: 0.0052 - val_loss: nan - val_acc: 0.0032\n",
            "Epoch 40/50\n",
            "469/469 [==============================] - 69s 146ms/step - loss: nan - acc: 0.0052 - val_loss: nan - val_acc: 0.0032\n",
            "Epoch 41/50\n",
            "469/469 [==============================] - 69s 146ms/step - loss: nan - acc: 0.0041 - val_loss: nan - val_acc: 0.0032\n",
            "Epoch 42/50\n",
            "469/469 [==============================] - 69s 147ms/step - loss: nan - acc: 0.0069 - val_loss: nan - val_acc: 0.0032\n",
            "Epoch 43/50\n",
            "469/469 [==============================] - 69s 147ms/step - loss: nan - acc: 0.0062 - val_loss: nan - val_acc: 0.0032\n",
            "Epoch 44/50\n",
            "469/469 [==============================] - 69s 147ms/step - loss: nan - acc: 0.0059 - val_loss: nan - val_acc: 0.0032\n",
            "Epoch 45/50\n",
            "469/469 [==============================] - 69s 147ms/step - loss: nan - acc: 0.0049 - val_loss: nan - val_acc: 0.0032\n",
            "Epoch 46/50\n",
            "469/469 [==============================] - 69s 147ms/step - loss: nan - acc: 0.0064 - val_loss: nan - val_acc: 0.0032\n",
            "Epoch 47/50\n",
            "469/469 [==============================] - 69s 147ms/step - loss: nan - acc: 0.0056 - val_loss: nan - val_acc: 0.0032\n",
            "Epoch 48/50\n",
            "469/469 [==============================] - 69s 147ms/step - loss: nan - acc: 0.0041 - val_loss: nan - val_acc: 0.0032\n",
            "Epoch 49/50\n",
            "469/469 [==============================] - 69s 147ms/step - loss: nan - acc: 0.0054 - val_loss: nan - val_acc: 0.0032\n",
            "Epoch 50/50\n",
            "469/469 [==============================] - 69s 147ms/step - loss: nan - acc: 0.0044 - val_loss: nan - val_acc: 0.0032\n"
          ],
          "name": "stdout"
        }
      ]
    },
    {
      "cell_type": "code",
      "metadata": {
        "id": "PyaZk0UDDdPm",
        "colab": {
          "base_uri": "https://localhost:8080/",
          "height": 624
        },
        "outputId": "edfc968c-961f-4d74-e4d1-fc68775e3ec0"
      },
      "source": [
        "import matplotlib.pyplot as plt\n",
        "\n",
        "plt.figure(figsize=(10,10))\n",
        "plt.subplot(121)\n",
        "plt.title('accuracy')\n",
        "plt.plot(m.history['acc'])\n",
        "plt.plot(m.history['val_acc'])\n",
        "plt.legend(['train','val'])\n",
        "\n",
        "plt.subplot(122)\n",
        "plt.title('loss')\n",
        "plt.plot(m.history['loss'])\n",
        "plt.plot(m.history['val_loss'])\n",
        "plt.legend(['train','val'])"
      ],
      "execution_count": 5,
      "outputs": [
        {
          "output_type": "execute_result",
          "data": {
            "text/plain": [
              "<matplotlib.legend.Legend at 0x7f38e0105190>"
            ]
          },
          "metadata": {
            "tags": []
          },
          "execution_count": 5
        },
        {
          "output_type": "display_data",
          "data": {
            "image/png": "[encoded data removed]",
            "text/plain": [
              "<Figure size 720x720 with 2 Axes>"
            ]
          },
          "metadata": {
            "tags": [],
            "needs_background": "light"
          }
        }
      ]
    },
    {
      "cell_type": "markdown",
      "metadata": {
        "id": "d8PL-nTcNc6J"
      },
      "source": [
        "experimenting with types of optimizations\n",
        "adam,sgd,nadam"
      ]
    },
    {
      "cell_type": "code",
      "metadata": {
        "id": "YHAPwd71aIzB",
        "colab": {
          "base_uri": "https://localhost:8080/"
        },
        "outputId": "8f72476d-af7a-4309-e7c4-8cc7e6566826"
      },
      "source": [
        "from sklearn.model_selection import train_test_split\n",
        "X=X[0:5001]\n",
        "Y=Y[0:5001]\n",
        "X_train,X_valid,Y_train,Y_valid=train_test_split(X,Y)\n",
        "X_train=np.asarray(X_train,float)/256\n",
        "Y_train=np.asarray(Y_train)\n",
        "X_valid=np.asarray(X_valid,float)/256\n",
        "Y_valid=np.asarray(Y_valid)\n",
        "from keras.utils import to_categorical\n",
        "from tensorflow.keras import layers\n",
        "from keras.layers import Dense,Conv2D,Flatten,MaxPool2D,Dropout\n",
        "from keras.models import Sequential\n",
        "from tensorflow.keras import activations\n",
        "from tensorflow.keras import regularizers\n",
        "model= Sequential()\n",
        "model.add(Conv2D(kernel_size=(3,3), filters=32, activation='relu', input_shape=(150,150,3),activity_regularizer=regularizers.L2(0.01)))\n",
        "model.add(Dense(20,activation='relu'))\n",
        "model.add(layers.Activation(activations.sigmoid))\n",
        "model.add(Conv2D(kernel_size = (3,3),filters=64,activation='relu',activity_regularizer=regularizers.L2(0.01)))\n",
        "model.add(MaxPool2D(pool_size=(2,2),strides=(1, 1), padding='valid'))\n",
        "model.add(Conv2D(kernel_size=(3,3),filters=128,activation='relu',activity_regularizer=regularizers.L2(0.01)))\n",
        "model.add(MaxPool2D(pool_size=(2,2),strides=(1, 1), padding='valid'))\n",
        "model.add(Conv2D(kernel_size=(3,3),filters=256,activation='relu',activity_regularizer=regularizers.L2(0.01)))\n",
        "model.add(Flatten())\n",
        "model.add(Dense(61,activation = 'softmax'))\n",
        "    \n",
        "model.compile(loss='sparse_categorical_crossentropy',metrics=['acc'], optimizer='adam')\n",
        "m = model.fit(X_train,Y_train,epochs=50,batch_size=8,validation_data=(X_valid,Y_valid))"
      ],
      "execution_count": null,
      "outputs": [
        {
          "output_type": "stream",
          "text": [
            "Epoch 1/50\n",
            "469/469 [==============================] - 119s 182ms/step - loss: 55.0189 - acc: 0.0870 - val_loss: 3.8593 - val_acc: 0.0775\n",
            "Epoch 2/50\n",
            "469/469 [==============================] - 85s 181ms/step - loss: 3.8698 - acc: 0.0802 - val_loss: 3.8410 - val_acc: 0.0775\n",
            "Epoch 3/50\n",
            "469/469 [==============================] - 85s 180ms/step - loss: 3.8493 - acc: 0.0955 - val_loss: 3.8535 - val_acc: 0.0775\n",
            "Epoch 4/50\n",
            "469/469 [==============================] - 84s 180ms/step - loss: 3.8517 - acc: 0.0974 - val_loss: 3.8489 - val_acc: 0.0775\n",
            "Epoch 5/50\n",
            "469/469 [==============================] - 84s 180ms/step - loss: 3.8749 - acc: 0.0900 - val_loss: 3.8813 - val_acc: 0.0775\n",
            "Epoch 6/50\n",
            "469/469 [==============================] - 84s 180ms/step - loss: 3.8662 - acc: 0.0956 - val_loss: 4.0082 - val_acc: 0.0775\n",
            "Epoch 7/50\n",
            "469/469 [==============================] - 84s 179ms/step - loss: 3.9859 - acc: 0.0873 - val_loss: 3.9467 - val_acc: 0.0775\n",
            "Epoch 8/50\n",
            "469/469 [==============================] - 84s 179ms/step - loss: 3.9213 - acc: 0.0922 - val_loss: 3.9040 - val_acc: 0.0775\n",
            "Epoch 9/50\n",
            "469/469 [==============================] - 84s 179ms/step - loss: 3.8787 - acc: 0.0953 - val_loss: 3.8748 - val_acc: 0.0775\n",
            "Epoch 10/50\n",
            "469/469 [==============================] - 84s 179ms/step - loss: 3.8439 - acc: 0.0920 - val_loss: 3.8553 - val_acc: 0.0775\n",
            "Epoch 11/50\n",
            "469/469 [==============================] - 84s 179ms/step - loss: 3.8296 - acc: 0.0954 - val_loss: 3.8425 - val_acc: 0.0775\n",
            "Epoch 12/50\n",
            "469/469 [==============================] - 84s 179ms/step - loss: 3.8126 - acc: 0.0929 - val_loss: 3.8342 - val_acc: 0.0775\n",
            "Epoch 13/50\n",
            "469/469 [==============================] - 84s 179ms/step - loss: 3.8011 - acc: 0.0873 - val_loss: 3.8291 - val_acc: 0.0775\n",
            "Epoch 14/50\n",
            "469/469 [==============================] - 84s 179ms/step - loss: 3.8004 - acc: 0.0870 - val_loss: 3.8257 - val_acc: 0.0775\n",
            "Epoch 15/50\n",
            "469/469 [==============================] - 84s 179ms/step - loss: 3.7949 - acc: 0.0872 - val_loss: 3.8237 - val_acc: 0.0775\n",
            "Epoch 16/50\n",
            "469/469 [==============================] - 84s 179ms/step - loss: 3.7688 - acc: 0.0962 - val_loss: 3.8224 - val_acc: 0.0775\n",
            "Epoch 17/50\n",
            "469/469 [==============================] - 84s 178ms/step - loss: 3.7958 - acc: 0.0930 - val_loss: 3.8217 - val_acc: 0.0775\n",
            "Epoch 18/50\n",
            "469/469 [==============================] - 84s 179ms/step - loss: 3.8181 - acc: 0.0896 - val_loss: 3.8209 - val_acc: 0.0775\n",
            "Epoch 19/50\n",
            "469/469 [==============================] - 84s 179ms/step - loss: 3.8080 - acc: 0.0880 - val_loss: 3.8206 - val_acc: 0.0775\n",
            "Epoch 20/50\n",
            "469/469 [==============================] - 84s 179ms/step - loss: 3.7774 - acc: 0.0901 - val_loss: 3.8203 - val_acc: 0.0775\n",
            "Epoch 21/50\n",
            "469/469 [==============================] - 84s 179ms/step - loss: 3.7965 - acc: 0.0971 - val_loss: 3.8201 - val_acc: 0.0775\n",
            "Epoch 22/50\n",
            "469/469 [==============================] - 84s 179ms/step - loss: 3.7917 - acc: 0.0902 - val_loss: 3.8202 - val_acc: 0.0775\n",
            "Epoch 23/50\n",
            "469/469 [==============================] - 84s 179ms/step - loss: 3.7862 - acc: 0.0945 - val_loss: 3.8204 - val_acc: 0.0775\n",
            "Epoch 24/50\n",
            "469/469 [==============================] - 84s 179ms/step - loss: 3.8228 - acc: 0.0916 - val_loss: 3.8202 - val_acc: 0.0775\n",
            "Epoch 25/50\n",
            "469/469 [==============================] - 84s 179ms/step - loss: 3.8073 - acc: 0.0886 - val_loss: 3.8204 - val_acc: 0.0775\n",
            "Epoch 26/50\n",
            "469/469 [==============================] - 84s 180ms/step - loss: 3.7772 - acc: 0.0976 - val_loss: 3.8204 - val_acc: 0.0775\n",
            "Epoch 27/50\n",
            "469/469 [==============================] - 84s 179ms/step - loss: 3.8095 - acc: 0.0907 - val_loss: 3.8205 - val_acc: 0.0775\n",
            "Epoch 28/50\n",
            "469/469 [==============================] - 84s 179ms/step - loss: 3.7880 - acc: 0.0953 - val_loss: 3.8207 - val_acc: 0.0775\n",
            "Epoch 29/50\n",
            "469/469 [==============================] - 84s 179ms/step - loss: 3.7941 - acc: 0.0899 - val_loss: 3.8208 - val_acc: 0.0775\n",
            "Epoch 30/50\n",
            "469/469 [==============================] - 84s 179ms/step - loss: 3.7917 - acc: 0.0874 - val_loss: 3.8209 - val_acc: 0.0775\n",
            "Epoch 31/50\n",
            "469/469 [==============================] - 84s 179ms/step - loss: 3.7914 - acc: 0.0959 - val_loss: 3.8208 - val_acc: 0.0775\n",
            "Epoch 32/50\n",
            "469/469 [==============================] - 84s 179ms/step - loss: 3.8098 - acc: 0.0919 - val_loss: 3.8210 - val_acc: 0.0775\n",
            "Epoch 33/50\n",
            "469/469 [==============================] - 84s 179ms/step - loss: 3.8025 - acc: 0.0876 - val_loss: 3.8210 - val_acc: 0.0775\n",
            "Epoch 34/50\n",
            "469/469 [==============================] - 84s 179ms/step - loss: 3.8010 - acc: 0.0869 - val_loss: 3.8211 - val_acc: 0.0775\n",
            "Epoch 35/50\n",
            "469/469 [==============================] - 84s 179ms/step - loss: 3.8132 - acc: 0.0920 - val_loss: 3.8212 - val_acc: 0.0775\n",
            "Epoch 36/50\n",
            "469/469 [==============================] - 84s 179ms/step - loss: 3.7987 - acc: 0.0938 - val_loss: 3.8212 - val_acc: 0.0775\n",
            "Epoch 37/50\n",
            "469/469 [==============================] - 84s 179ms/step - loss: 3.7655 - acc: 0.1005 - val_loss: 3.8213 - val_acc: 0.0775\n",
            "Epoch 38/50\n",
            "469/469 [==============================] - 84s 179ms/step - loss: 3.7914 - acc: 0.0943 - val_loss: 3.8212 - val_acc: 0.0775\n",
            "Epoch 39/50\n",
            "469/469 [==============================] - 84s 180ms/step - loss: 3.7847 - acc: 0.0950 - val_loss: 3.8212 - val_acc: 0.0775\n",
            "Epoch 40/50\n",
            "469/469 [==============================] - 84s 179ms/step - loss: 3.7925 - acc: 0.0908 - val_loss: 3.8215 - val_acc: 0.0775\n",
            "Epoch 41/50\n",
            "469/469 [==============================] - 84s 179ms/step - loss: 3.7975 - acc: 0.0940 - val_loss: 3.8215 - val_acc: 0.0775\n",
            "Epoch 42/50\n",
            "469/469 [==============================] - 84s 179ms/step - loss: 3.8109 - acc: 0.0891 - val_loss: 3.8214 - val_acc: 0.0775\n",
            "Epoch 43/50\n",
            "469/469 [==============================] - 84s 179ms/step - loss: 3.8002 - acc: 0.0845 - val_loss: 3.8215 - val_acc: 0.0775\n",
            "Epoch 44/50\n",
            "469/469 [==============================] - 84s 179ms/step - loss: 3.7878 - acc: 0.0819 - val_loss: 3.8215 - val_acc: 0.0775\n",
            "Epoch 45/50\n",
            "469/469 [==============================] - 84s 179ms/step - loss: 3.7715 - acc: 0.0881 - val_loss: 3.8216 - val_acc: 0.0775\n",
            "Epoch 46/50\n",
            "469/469 [==============================] - 84s 179ms/step - loss: 3.7927 - acc: 0.1021 - val_loss: 3.8216 - val_acc: 0.0775\n",
            "Epoch 47/50\n",
            "469/469 [==============================] - 84s 180ms/step - loss: 3.8040 - acc: 0.0963 - val_loss: 3.8214 - val_acc: 0.0775\n",
            "Epoch 48/50\n",
            "469/469 [==============================] - 84s 180ms/step - loss: 3.7777 - acc: 0.0932 - val_loss: 3.8216 - val_acc: 0.0775\n",
            "Epoch 49/50\n",
            "469/469 [==============================] - 84s 180ms/step - loss: 3.8019 - acc: 0.0837 - val_loss: 3.8216 - val_acc: 0.0775\n",
            "Epoch 50/50\n",
            "469/469 [==============================] - 84s 180ms/step - loss: 3.7916 - acc: 0.0959 - val_loss: 3.8217 - val_acc: 0.0775\n"
          ],
          "name": "stdout"
        }
      ]
    },
    {
      "cell_type": "code",
      "metadata": {
        "id": "kChv6Fm6aSIN",
        "colab": {
          "base_uri": "https://localhost:8080/",
          "height": 624
        },
        "outputId": "3b8bace5-2700-4637-a114-0974105be4af"
      },
      "source": [
        "import matplotlib.pyplot as plt\n",
        "\n",
        "plt.figure(figsize=(10,10))\n",
        "plt.subplot(121)\n",
        "plt.title('accuracy')\n",
        "plt.plot(m.history['acc'])\n",
        "plt.plot(m.history['val_acc'])\n",
        "plt.legend(['train','val'])\n",
        "\n",
        "plt.subplot(122)\n",
        "plt.title('loss')\n",
        "plt.plot(m.history['loss'])\n",
        "plt.plot(m.history['val_loss'])\n",
        "plt.legend(['train','val'])"
      ],
      "execution_count": null,
      "outputs": [
        {
          "output_type": "execute_result",
          "data": {
            "text/plain": [
              "<matplotlib.legend.Legend at 0x7f713161ed10>"
            ]
          },
          "metadata": {
            "tags": []
          },
          "execution_count": 6
        },
        {
          "output_type": "display_data",
          "data": {
            "image/png": "[encoded data removed]",
            "text/plain": [
              "<Figure size 720x720 with 2 Axes>"
            ]
          },
          "metadata": {
            "tags": [],
            "needs_background": "light"
          }
        }
      ]
    },
    {
      "cell_type": "code",
      "metadata": {
        "id": "p3A6bRPpN3Rz"
      },
      "source": [
        "from sklearn.model_selection import train_test_split\n",
        "X=X[0:5001]\n",
        "Y=Y[0:5001]\n",
        "X_train,X_valid,Y_train,Y_valid=train_test_split(X,Y)\n",
        "X_train=np.asarray(X_train,float)/256\n",
        "Y_train=np.asarray(Y_train)\n",
        "X_valid=np.asarray(X_valid,float)/256\n",
        "Y_valid=np.asarray(Y_valid)\n",
        "from keras.utils import to_categorical\n",
        "from tensorflow.keras import layers\n",
        "from keras.layers import Dense,Conv2D,Flatten,MaxPool2D,Dropout\n",
        "from keras.models import Sequential\n",
        "from tensorflow.keras import activations\n",
        "from tensorflow.keras import regularizers\n",
        "model= Sequential()\n",
        "model.add(Conv2D(kernel_size=(3,3), filters=32, activation='relu', input_shape=(150,150,3),activity_regularizer=regularizers.L2(0.01)))\n",
        "model.add(Dense(20,activation='relu'))\n",
        "model.add(layers.Activation(activations.sigmoid))\n",
        "model.add(Conv2D(kernel_size = (3,3),filters=64,activation='relu',activity_regularizer=regularizers.L2(0.01)))\n",
        "model.add(MaxPool2D(pool_size=(2,2),strides=(1, 1), padding='valid'))\n",
        "model.add(Conv2D(kernel_size=(3,3),filters=128,activation='relu',activity_regularizer=regularizers.L2(0.01)))\n",
        "model.add(MaxPool2D(pool_size=(2,2),strides=(1, 1), padding='valid'))\n",
        "model.add(Conv2D(kernel_size=(3,3),filters=256,activation='relu',activity_regularizer=regularizers.L2(0.01)))\n",
        "model.add(Flatten())\n",
        "model.add(Dense(61,activation = 'softmax'))\n",
        "    \n",
        "model.compile(loss='sparse_categorical_crossentropy',metrics=['acc'], optimizer='nadam')\n",
        "m = model.fit(X_train,Y_train,epochs=50,batch_size=8,validation_data=(X_valid,Y_valid))"
      ],
      "execution_count": null,
      "outputs": []
    },
    {
      "cell_type": "code",
      "metadata": {
        "id": "L9wFj-XGDhSf"
      },
      "source": [
        "import matplotlib.pyplot as plt\n",
        "\n",
        "plt.figure(figsize=(10,10))\n",
        "plt.subplot(121)\n",
        "plt.title('accuracy')\n",
        "plt.plot(m.history['acc'])\n",
        "plt.plot(m.history['val_acc'])\n",
        "plt.legend(['train','val'])\n",
        "\n",
        "plt.subplot(122)\n",
        "plt.title('loss')\n",
        "plt.plot(m.history['loss'])\n",
        "plt.plot(m.history['val_loss'])\n",
        "plt.legend(['train','val'])"
      ],
      "execution_count": null,
      "outputs": []
    },
    {
      "cell_type": "markdown",
      "metadata": {
        "id": "ep7978k9N6In"
      },
      "source": [
        "Different pooling strategies- Max pooling and average pooling"
      ]
    },
    {
      "cell_type": "code",
      "metadata": {
        "colab": {
          "base_uri": "https://localhost:8080/"
        },
        "id": "xT309M-aOiki",
        "outputId": "60ce4d11-6cd2-4d62-fedd-cb616967cb99"
      },
      "source": [
        "from sklearn.model_selection import train_test_split\n",
        "X=X[0:5001]\n",
        "Y=Y[0:5001]\n",
        "X_train,X_valid,Y_train,Y_valid=train_test_split(X,Y)\n",
        "X_train=np.asarray(X_train,float)/256\n",
        "Y_train=np.asarray(Y_train)\n",
        "X_valid=np.asarray(X_valid,float)/256\n",
        "Y_valid=np.asarray(Y_valid)\n",
        "from keras.utils import to_categorical\n",
        "from tensorflow.keras import layers\n",
        "from keras.layers import Dense,Conv2D,Flatten,MaxPool2D,Dropout,AvgPool2D\n",
        "from keras.models import Sequential\n",
        "from tensorflow.keras import activations\n",
        "from tensorflow.keras import regularizers\n",
        "model= Sequential()\n",
        "model.add(Conv2D(kernel_size=(3,3), filters=32, activation='relu', input_shape=(150,150,3),activity_regularizer=regularizers.L2(0.01)))\n",
        "model.add(Dense(20,activation='relu'))\n",
        "model.add(layers.Activation(activations.relu))\n",
        "model.add(Conv2D(kernel_size = (3,3),filters=64,activation='relu',activity_regularizer=regularizers.L2(0.01)))\n",
        "model.add(AvgPool2D(pool_size=(2,2),strides=(1, 1), padding='valid'))\n",
        "model.add(Conv2D(kernel_size=(3,3),filters=128,activation='relu',activity_regularizer=regularizers.L2(0.01)))\n",
        "model.add(AvgPool2D(pool_size=(2,2),strides=(1, 1), padding='valid'))\n",
        "model.add(Conv2D(kernel_size=(3,3),filters=256,activation='relu',activity_regularizer=regularizers.L2(0.01)))\n",
        "model.add(Flatten())\n",
        "model.add(Dense(61,activation = 'softmax'))\n",
        "    \n",
        "model.compile(loss='sparse_categorical_crossentropy',metrics=['acc'], optimizer='SGD')\n",
        "m = model.fit(X_train,Y_train,epochs=50,batch_size=8,validation_data=(X_valid,Y_valid))"
      ],
      "execution_count": 5,
      "outputs": [
        {
          "output_type": "stream",
          "text": [
            "Epoch 1/50\n",
            "469/469 [==============================] - 101s 150ms/step - loss: nan - acc: 0.0072 - val_loss: nan - val_acc: 0.0016\n",
            "Epoch 2/50\n",
            "469/469 [==============================] - 67s 144ms/step - loss: nan - acc: 0.0056 - val_loss: nan - val_acc: 0.0016\n",
            "Epoch 3/50\n",
            "469/469 [==============================] - 68s 144ms/step - loss: nan - acc: 0.0043 - val_loss: nan - val_acc: 0.0016\n",
            "Epoch 4/50\n",
            "469/469 [==============================] - 68s 144ms/step - loss: nan - acc: 0.0052 - val_loss: nan - val_acc: 0.0016\n",
            "Epoch 5/50\n",
            "469/469 [==============================] - 68s 144ms/step - loss: nan - acc: 0.0050 - val_loss: nan - val_acc: 0.0016\n",
            "Epoch 6/50\n",
            "469/469 [==============================] - 68s 144ms/step - loss: nan - acc: 0.0042 - val_loss: nan - val_acc: 0.0016\n",
            "Epoch 7/50\n",
            "469/469 [==============================] - 68s 144ms/step - loss: nan - acc: 0.0062 - val_loss: nan - val_acc: 0.0016\n",
            "Epoch 8/50\n",
            "469/469 [==============================] - 68s 144ms/step - loss: nan - acc: 0.0069 - val_loss: nan - val_acc: 0.0016\n",
            "Epoch 9/50\n",
            "469/469 [==============================] - 68s 144ms/step - loss: nan - acc: 0.0043 - val_loss: nan - val_acc: 0.0016\n",
            "Epoch 10/50\n",
            "469/469 [==============================] - 68s 145ms/step - loss: nan - acc: 0.0045 - val_loss: nan - val_acc: 0.0016\n",
            "Epoch 11/50\n",
            "469/469 [==============================] - 67s 144ms/step - loss: nan - acc: 0.0045 - val_loss: nan - val_acc: 0.0016\n",
            "Epoch 12/50\n",
            "469/469 [==============================] - 67s 144ms/step - loss: nan - acc: 0.0069 - val_loss: nan - val_acc: 0.0016\n",
            "Epoch 13/50\n",
            "469/469 [==============================] - 67s 144ms/step - loss: nan - acc: 0.0080 - val_loss: nan - val_acc: 0.0016\n",
            "Epoch 14/50\n",
            "469/469 [==============================] - 67s 144ms/step - loss: nan - acc: 0.0067 - val_loss: nan - val_acc: 0.0016\n",
            "Epoch 15/50\n",
            "469/469 [==============================] - 67s 144ms/step - loss: nan - acc: 0.0045 - val_loss: nan - val_acc: 0.0016\n",
            "Epoch 16/50\n",
            "469/469 [==============================] - 67s 143ms/step - loss: nan - acc: 0.0057 - val_loss: nan - val_acc: 0.0016\n",
            "Epoch 17/50\n",
            "469/469 [==============================] - 67s 143ms/step - loss: nan - acc: 0.0063 - val_loss: nan - val_acc: 0.0016\n",
            "Epoch 18/50\n",
            "469/469 [==============================] - 67s 144ms/step - loss: nan - acc: 0.0041 - val_loss: nan - val_acc: 0.0016\n",
            "Epoch 19/50\n",
            "469/469 [==============================] - 67s 144ms/step - loss: nan - acc: 0.0076 - val_loss: nan - val_acc: 0.0016\n",
            "Epoch 20/50\n",
            "469/469 [==============================] - 67s 144ms/step - loss: nan - acc: 0.0058 - val_loss: nan - val_acc: 0.0016\n",
            "Epoch 21/50\n",
            "469/469 [==============================] - 67s 144ms/step - loss: nan - acc: 0.0037 - val_loss: nan - val_acc: 0.0016\n",
            "Epoch 22/50\n",
            "469/469 [==============================] - 68s 144ms/step - loss: nan - acc: 0.0081 - val_loss: nan - val_acc: 0.0016\n",
            "Epoch 23/50\n",
            "469/469 [==============================] - 68s 144ms/step - loss: nan - acc: 0.0070 - val_loss: nan - val_acc: 0.0016\n",
            "Epoch 24/50\n",
            "469/469 [==============================] - 67s 144ms/step - loss: nan - acc: 0.0085 - val_loss: nan - val_acc: 0.0016\n",
            "Epoch 25/50\n",
            "469/469 [==============================] - 67s 144ms/step - loss: nan - acc: 0.0055 - val_loss: nan - val_acc: 0.0016\n",
            "Epoch 26/50\n",
            "469/469 [==============================] - 67s 143ms/step - loss: nan - acc: 0.0056 - val_loss: nan - val_acc: 0.0016\n",
            "Epoch 27/50\n",
            "469/469 [==============================] - 67s 143ms/step - loss: nan - acc: 0.0041 - val_loss: nan - val_acc: 0.0016\n",
            "Epoch 28/50\n",
            "469/469 [==============================] - 68s 144ms/step - loss: nan - acc: 0.0070 - val_loss: nan - val_acc: 0.0016\n",
            "Epoch 29/50\n",
            "469/469 [==============================] - 67s 144ms/step - loss: nan - acc: 0.0044 - val_loss: nan - val_acc: 0.0016\n",
            "Epoch 30/50\n",
            "469/469 [==============================] - 67s 144ms/step - loss: nan - acc: 0.0079 - val_loss: nan - val_acc: 0.0016\n",
            "Epoch 31/50\n",
            "469/469 [==============================] - 67s 144ms/step - loss: nan - acc: 0.0056 - val_loss: nan - val_acc: 0.0016\n",
            "Epoch 32/50\n",
            "469/469 [==============================] - 67s 144ms/step - loss: nan - acc: 0.0044 - val_loss: nan - val_acc: 0.0016\n",
            "Epoch 33/50\n",
            "469/469 [==============================] - 67s 144ms/step - loss: nan - acc: 0.0058 - val_loss: nan - val_acc: 0.0016\n",
            "Epoch 34/50\n",
            "469/469 [==============================] - 67s 144ms/step - loss: nan - acc: 0.0054 - val_loss: nan - val_acc: 0.0016\n",
            "Epoch 35/50\n",
            "469/469 [==============================] - 67s 144ms/step - loss: nan - acc: 0.0059 - val_loss: nan - val_acc: 0.0016\n",
            "Epoch 36/50\n",
            "469/469 [==============================] - 67s 144ms/step - loss: nan - acc: 0.0036 - val_loss: nan - val_acc: 0.0016\n",
            "Epoch 37/50\n",
            "469/469 [==============================] - 67s 144ms/step - loss: nan - acc: 0.0047 - val_loss: nan - val_acc: 0.0016\n",
            "Epoch 38/50\n",
            "469/469 [==============================] - 68s 144ms/step - loss: nan - acc: 0.0049 - val_loss: nan - val_acc: 0.0016\n",
            "Epoch 39/50\n",
            "469/469 [==============================] - 67s 144ms/step - loss: nan - acc: 0.0069 - val_loss: nan - val_acc: 0.0016\n",
            "Epoch 40/50\n",
            "469/469 [==============================] - 67s 144ms/step - loss: nan - acc: 0.0047 - val_loss: nan - val_acc: 0.0016\n",
            "Epoch 41/50\n",
            "469/469 [==============================] - 67s 144ms/step - loss: nan - acc: 0.0068 - val_loss: nan - val_acc: 0.0016\n",
            "Epoch 42/50\n",
            "469/469 [==============================] - 68s 144ms/step - loss: nan - acc: 0.0043 - val_loss: nan - val_acc: 0.0016\n",
            "Epoch 43/50\n",
            "469/469 [==============================] - 68s 144ms/step - loss: nan - acc: 0.0039 - val_loss: nan - val_acc: 0.0016\n",
            "Epoch 44/50\n",
            "469/469 [==============================] - 68s 144ms/step - loss: nan - acc: 0.0052 - val_loss: nan - val_acc: 0.0016\n",
            "Epoch 45/50\n",
            "469/469 [==============================] - 68s 144ms/step - loss: nan - acc: 0.0058 - val_loss: nan - val_acc: 0.0016\n",
            "Epoch 46/50\n",
            "469/469 [==============================] - 68s 145ms/step - loss: nan - acc: 0.0064 - val_loss: nan - val_acc: 0.0016\n",
            "Epoch 47/50\n",
            "469/469 [==============================] - 68s 145ms/step - loss: nan - acc: 0.0058 - val_loss: nan - val_acc: 0.0016\n",
            "Epoch 48/50\n",
            "469/469 [==============================] - 68s 145ms/step - loss: nan - acc: 0.0059 - val_loss: nan - val_acc: 0.0016\n",
            "Epoch 49/50\n",
            "469/469 [==============================] - 68s 145ms/step - loss: nan - acc: 0.0066 - val_loss: nan - val_acc: 0.0016\n",
            "Epoch 50/50\n",
            "469/469 [==============================] - 68s 145ms/step - loss: nan - acc: 0.0062 - val_loss: nan - val_acc: 0.0016\n"
          ],
          "name": "stdout"
        }
      ]
    },
    {
      "cell_type": "code",
      "metadata": {
        "id": "IFyNmYpyDju8",
        "colab": {
          "base_uri": "https://localhost:8080/",
          "height": 624
        },
        "outputId": "bd72d70f-9043-4772-e2b0-090acc9d9bd6"
      },
      "source": [
        "import matplotlib.pyplot as plt\n",
        "\n",
        "plt.figure(figsize=(10,10))\n",
        "plt.subplot(121)\n",
        "plt.title('accuracy')\n",
        "plt.plot(m.history['acc'])\n",
        "plt.plot(m.history['val_acc'])\n",
        "plt.legend(['train','val'])\n",
        "\n",
        "plt.subplot(122)\n",
        "plt.title('loss')\n",
        "plt.plot(m.history['loss'])\n",
        "plt.plot(m.history['val_loss'])\n",
        "plt.legend(['train','val'])"
      ],
      "execution_count": 6,
      "outputs": [
        {
          "output_type": "execute_result",
          "data": {
            "text/plain": [
              "<matplotlib.legend.Legend at 0x7f3b7179be10>"
            ]
          },
          "metadata": {
            "tags": []
          },
          "execution_count": 6
        },
        {
          "output_type": "display_data",
          "data": {
            "image/png": "[encoded data removed]",
            "text/plain": [
              "<Figure size 720x720 with 2 Axes>"
            ]
          },
          "metadata": {
            "tags": [],
            "needs_background": "light"
          }
        }
      ]
    },
    {
      "cell_type": "markdown",
      "metadata": {
        "id": "4D-bp_j0OrHC"
      },
      "source": [
        "Batch Normalization"
      ]
    },
    {
      "cell_type": "code",
      "metadata": {
        "id": "bJ56PDshsboU",
        "colab": {
          "base_uri": "https://localhost:8080/"
        },
        "outputId": "a8c358d0-de6f-4164-f03e-673f23880b1c"
      },
      "source": [
        "from sklearn.model_selection import train_test_split\n",
        "X=X[0:5001]\n",
        "Y=Y[0:5001]\n",
        "X_train,X_valid,Y_train,Y_valid=train_test_split(X,Y)\n",
        "X_train=np.asarray(X_train,float)/256\n",
        "Y_train=np.asarray(Y_train)\n",
        "X_valid=np.asarray(X_valid,float)/256\n",
        "Y_valid=np.asarray(Y_valid)\n",
        "from keras.utils import to_categorical\n",
        "from tensorflow.keras import layers\n",
        "from keras.layers import Dense,Conv2D,Flatten,MaxPool2D,Dropout,BatchNormalization\n",
        "from keras.models import Sequential\n",
        "from tensorflow.keras import activations\n",
        "from tensorflow.keras import regularizers\n",
        "model= Sequential()\n",
        "model.add(Conv2D(kernel_size=(3,3), filters=32, activation='relu', input_shape=(150,150,3),activity_regularizer=regularizers.L2(0.01)))\n",
        "model.add(BatchNormalization())\n",
        "model.add(Dense(20,activation='relu'))\n",
        "model.add(layers.Activation(activations.relu))\n",
        "model.add(Conv2D(kernel_size = (3,3),filters=64,activation='relu',activity_regularizer=regularizers.L2(0.01)))\n",
        "model.add(BatchNormalization())\n",
        "model.add(MaxPool2D(pool_size=(2,2),strides=(1, 1), padding='valid'))\n",
        "model.add(Conv2D(kernel_size=(3,3),filters=128,activation='relu',activity_regularizer=regularizers.L2(0.01)))\n",
        "model.add(BatchNormalization())\n",
        "model.add(MaxPool2D(pool_size=(2,2),strides=(1, 1), padding='valid'))\n",
        "model.add(layers.Activation(activations.relu))\n",
        "model.add(Conv2D(kernel_size=(3,3),filters=256,activation='relu',activity_regularizer=regularizers.L2(0.01)))\n",
        "model.add(BatchNormalization())\n",
        "model.add(Flatten())\n",
        "model.add(Dense(61,activation = 'softmax'))\n",
        "\n",
        "model.compile(loss='sparse_categorical_crossentropy',metrics=['acc'], optimizer='SGD')\n",
        "m = model.fit(X_train,Y_train,epochs=50,batch_size=8,validation_data=(X_valid,Y_valid))"
      ],
      "execution_count": null,
      "outputs": [
        {
          "output_type": "stream",
          "text": [
            "Epoch 1/50\n",
            "469/469 [==============================] - 108s 157ms/step - loss: nan - acc: 0.0338 - val_loss: nan - val_acc: 0.0264\n",
            "Epoch 2/50\n",
            "469/469 [==============================] - 72s 154ms/step - loss: nan - acc: 0.0325 - val_loss: nan - val_acc: 0.0408\n",
            "Epoch 3/50\n",
            "469/469 [==============================] - 72s 154ms/step - loss: nan - acc: 0.0275 - val_loss: nan - val_acc: 0.0280\n",
            "Epoch 4/50\n",
            "469/469 [==============================] - 72s 153ms/step - loss: nan - acc: 0.0272 - val_loss: nan - val_acc: 0.0072\n",
            "Epoch 5/50\n",
            "469/469 [==============================] - 71s 152ms/step - loss: nan - acc: 0.0048 - val_loss: nan - val_acc: 0.0072\n",
            "Epoch 6/50\n",
            "469/469 [==============================] - 71s 152ms/step - loss: nan - acc: 0.0042 - val_loss: nan - val_acc: 0.0072\n",
            "Epoch 7/50\n",
            "469/469 [==============================] - 71s 152ms/step - loss: nan - acc: 0.0030 - val_loss: nan - val_acc: 0.0072\n",
            "Epoch 8/50\n",
            "469/469 [==============================] - 71s 152ms/step - loss: nan - acc: 0.0047 - val_loss: nan - val_acc: 0.0072\n",
            "Epoch 9/50\n",
            "469/469 [==============================] - 71s 152ms/step - loss: nan - acc: 0.0035 - val_loss: nan - val_acc: 0.0072\n",
            "Epoch 10/50\n",
            "469/469 [==============================] - 71s 152ms/step - loss: nan - acc: 0.0037 - val_loss: nan - val_acc: 0.0072\n",
            "Epoch 11/50\n",
            "469/469 [==============================] - 71s 152ms/step - loss: nan - acc: 0.0050 - val_loss: nan - val_acc: 0.0072\n",
            "Epoch 12/50\n",
            "469/469 [==============================] - 71s 152ms/step - loss: nan - acc: 0.0029 - val_loss: nan - val_acc: 0.0072\n",
            "Epoch 13/50\n",
            "469/469 [==============================] - 71s 152ms/step - loss: nan - acc: 0.0036 - val_loss: nan - val_acc: 0.0072\n",
            "Epoch 14/50\n",
            "469/469 [==============================] - 71s 152ms/step - loss: nan - acc: 0.0029 - val_loss: nan - val_acc: 0.0072\n",
            "Epoch 15/50\n",
            "469/469 [==============================] - 71s 152ms/step - loss: nan - acc: 0.0037 - val_loss: nan - val_acc: 0.0072\n",
            "Epoch 16/50\n",
            "469/469 [==============================] - 71s 152ms/step - loss: nan - acc: 0.0039 - val_loss: nan - val_acc: 0.0072\n",
            "Epoch 17/50\n",
            "469/469 [==============================] - 71s 152ms/step - loss: nan - acc: 0.0029 - val_loss: nan - val_acc: 0.0072\n",
            "Epoch 18/50\n",
            "469/469 [==============================] - 71s 152ms/step - loss: nan - acc: 0.0030 - val_loss: nan - val_acc: 0.0072\n",
            "Epoch 19/50\n",
            "469/469 [==============================] - 71s 152ms/step - loss: nan - acc: 0.0047 - val_loss: nan - val_acc: 0.0072\n",
            "Epoch 20/50\n",
            "469/469 [==============================] - 71s 152ms/step - loss: nan - acc: 0.0036 - val_loss: nan - val_acc: 0.0072\n",
            "Epoch 21/50\n",
            "469/469 [==============================] - 71s 152ms/step - loss: nan - acc: 0.0057 - val_loss: nan - val_acc: 0.0072\n",
            "Epoch 22/50\n",
            "469/469 [==============================] - 71s 152ms/step - loss: nan - acc: 0.0032 - val_loss: nan - val_acc: 0.0072\n",
            "Epoch 23/50\n",
            "469/469 [==============================] - 71s 152ms/step - loss: nan - acc: 0.0056 - val_loss: nan - val_acc: 0.0072\n",
            "Epoch 24/50\n",
            "469/469 [==============================] - 71s 152ms/step - loss: nan - acc: 0.0035 - val_loss: nan - val_acc: 0.0072\n",
            "Epoch 25/50\n",
            "469/469 [==============================] - 71s 152ms/step - loss: nan - acc: 0.0031 - val_loss: nan - val_acc: 0.0072\n",
            "Epoch 26/50\n",
            "469/469 [==============================] - 71s 152ms/step - loss: nan - acc: 0.0039 - val_loss: nan - val_acc: 0.0072\n",
            "Epoch 27/50\n",
            "469/469 [==============================] - 71s 152ms/step - loss: nan - acc: 0.0041 - val_loss: nan - val_acc: 0.0072\n",
            "Epoch 28/50\n",
            "469/469 [==============================] - 72s 153ms/step - loss: nan - acc: 0.0025 - val_loss: nan - val_acc: 0.0072\n",
            "Epoch 29/50\n",
            "469/469 [==============================] - 71s 152ms/step - loss: nan - acc: 0.0039 - val_loss: nan - val_acc: 0.0072\n",
            "Epoch 30/50\n",
            "469/469 [==============================] - 71s 152ms/step - loss: nan - acc: 0.0031 - val_loss: nan - val_acc: 0.0072\n",
            "Epoch 31/50\n",
            "469/469 [==============================] - 71s 152ms/step - loss: nan - acc: 0.0040 - val_loss: nan - val_acc: 0.0072\n",
            "Epoch 32/50\n",
            "469/469 [==============================] - 71s 152ms/step - loss: nan - acc: 0.0044 - val_loss: nan - val_acc: 0.0072\n",
            "Epoch 33/50\n",
            "469/469 [==============================] - 71s 152ms/step - loss: nan - acc: 0.0034 - val_loss: nan - val_acc: 0.0072\n",
            "Epoch 34/50\n",
            "469/469 [==============================] - 71s 152ms/step - loss: nan - acc: 0.0048 - val_loss: nan - val_acc: 0.0072\n",
            "Epoch 35/50\n",
            "469/469 [==============================] - 71s 152ms/step - loss: nan - acc: 0.0031 - val_loss: nan - val_acc: 0.0072\n",
            "Epoch 36/50\n",
            "469/469 [==============================] - 71s 152ms/step - loss: nan - acc: 0.0051 - val_loss: nan - val_acc: 0.0072\n",
            "Epoch 37/50\n",
            "469/469 [==============================] - 72s 153ms/step - loss: nan - acc: 0.0027 - val_loss: nan - val_acc: 0.0072\n",
            "Epoch 38/50\n",
            "469/469 [==============================] - 71s 152ms/step - loss: nan - acc: 0.0046 - val_loss: nan - val_acc: 0.0072\n",
            "Epoch 39/50\n",
            "469/469 [==============================] - 71s 152ms/step - loss: nan - acc: 0.0033 - val_loss: nan - val_acc: 0.0072\n",
            "Epoch 40/50\n",
            "469/469 [==============================] - 71s 152ms/step - loss: nan - acc: 0.0034 - val_loss: nan - val_acc: 0.0072\n",
            "Epoch 41/50\n",
            "469/469 [==============================] - 71s 152ms/step - loss: nan - acc: 0.0036 - val_loss: nan - val_acc: 0.0072\n",
            "Epoch 42/50\n",
            "469/469 [==============================] - 71s 152ms/step - loss: nan - acc: 0.0032 - val_loss: nan - val_acc: 0.0072\n",
            "Epoch 43/50\n",
            "469/469 [==============================] - 71s 152ms/step - loss: nan - acc: 0.0029 - val_loss: nan - val_acc: 0.0072\n",
            "Epoch 44/50\n",
            "469/469 [==============================] - 71s 152ms/step - loss: nan - acc: 0.0033 - val_loss: nan - val_acc: 0.0072\n",
            "Epoch 45/50\n",
            "469/469 [==============================] - 71s 152ms/step - loss: nan - acc: 0.0027 - val_loss: nan - val_acc: 0.0072\n",
            "Epoch 46/50\n",
            "469/469 [==============================] - 71s 152ms/step - loss: nan - acc: 0.0040 - val_loss: nan - val_acc: 0.0072\n",
            "Epoch 47/50\n",
            "469/469 [==============================] - 71s 152ms/step - loss: nan - acc: 0.0036 - val_loss: nan - val_acc: 0.0072\n",
            "Epoch 48/50\n",
            "469/469 [==============================] - 71s 152ms/step - loss: nan - acc: 0.0038 - val_loss: nan - val_acc: 0.0072\n",
            "Epoch 49/50\n",
            "469/469 [==============================] - 71s 152ms/step - loss: nan - acc: 0.0037 - val_loss: nan - val_acc: 0.0072\n",
            "Epoch 50/50\n",
            "469/469 [==============================] - 71s 152ms/step - loss: nan - acc: 0.0059 - val_loss: nan - val_acc: 0.0072\n"
          ],
          "name": "stdout"
        }
      ]
    },
    {
      "cell_type": "code",
      "metadata": {
        "id": "R220bNFRsj8g",
        "colab": {
          "base_uri": "https://localhost:8080/",
          "height": 624
        },
        "outputId": "57c641bc-9a96-4660-db70-9444f27621c8"
      },
      "source": [
        "import matplotlib.pyplot as plt\n",
        "\n",
        "plt.figure(figsize=(10,10))\n",
        "plt.subplot(121)\n",
        "plt.title('accuracy')\n",
        "plt.plot(m.history['acc'])\n",
        "plt.plot(m.history['val_acc'])\n",
        "plt.legend(['train','val'])\n",
        "\n",
        "plt.subplot(122)\n",
        "plt.title('loss')\n",
        "plt.plot(m.history['loss'])\n",
        "plt.plot(m.history['val_loss'])\n",
        "plt.legend(['train','val'])"
      ],
      "execution_count": null,
      "outputs": [
        {
          "output_type": "execute_result",
          "data": {
            "text/plain": [
              "<matplotlib.legend.Legend at 0x7fe7fe19fed0>"
            ]
          },
          "metadata": {
            "tags": []
          },
          "execution_count": 18
        },
        {
          "output_type": "display_data",
          "data": {
            "image/png": "[encoded data removed]",
            "text/plain": [
              "<Figure size 720x720 with 2 Axes>"
            ]
          },
          "metadata": {
            "tags": [],
            "needs_background": "light"
          }
        }
      ]
    },
    {
      "cell_type": "markdown",
      "metadata": {
        "id": "C4na83cYEoME"
      },
      "source": [
        "Dropout layer"
      ]
    },
    {
      "cell_type": "code",
      "metadata": {
        "id": "nuO4De1DEnYD",
        "colab": {
          "base_uri": "https://localhost:8080/"
        },
        "outputId": "62ea06e9-7c69-4628-e581-33d8373d552c"
      },
      "source": [
        "from sklearn.model_selection import train_test_split\n",
        "X=X[0:5001]\n",
        "Y=Y[0:5001]\n",
        "X_train,X_valid,Y_train,Y_valid=train_test_split(X,Y)\n",
        "X_train=np.asarray(X_train,float)/256\n",
        "Y_train=np.asarray(Y_train)\n",
        "X_valid=np.asarray(X_valid,float)/256\n",
        "Y_valid=np.asarray(Y_valid)\n",
        "from keras.utils import to_categorical\n",
        "from tensorflow.keras import layers\n",
        "from keras.layers import Dense,Conv2D,Flatten,MaxPool2D,Dropout\n",
        "from keras.models import Sequential\n",
        "from tensorflow.keras import activations\n",
        "from tensorflow.keras import regularizers\n",
        "model= Sequential()\n",
        "model.add(Conv2D(kernel_size=(3,3), filters=32, activation='relu', input_shape=(150,150,3),activity_regularizer=regularizers.L2(0.01)))\n",
        "model.add(Dense(20,activation='relu'))\n",
        "model.add(layers.Activation(activations.relu))\n",
        "model.add(Dropout(0.6))\n",
        "model.add(Conv2D(kernel_size = (3,3),filters=64,activation='relu',activity_regularizer=regularizers.L2(0.01)))\n",
        "model.add(MaxPool2D(pool_size=(2,2),strides=(1, 1), padding='valid'))\n",
        "model.add(Conv2D(kernel_size=(3,3),filters=128,activation='relu',activity_regularizer=regularizers.L2(0.01)))\n",
        "model.add(MaxPool2D(pool_size=(2,2),strides=(1, 1), padding='valid'))\n",
        "model.add(Dropout(0.5))\n",
        "model.add(Conv2D(kernel_size=(3,3),filters=256,activation='relu',activity_regularizer=regularizers.L2(0.01)))\n",
        "model.add(Flatten())\n",
        "model.add(Dropout(0.25))\n",
        "model.add(Dense(61,activation = 'softmax'))\n",
        "    \n",
        "model.compile(loss='sparse_categorical_crossentropy',metrics=['acc'], optimizer='SGD')\n",
        "m = model.fit(X_train,Y_train,epochs=50,batch_size=8,validation_data=(X_valid,Y_valid))"
      ],
      "execution_count": null,
      "outputs": [
        {
          "output_type": "stream",
          "text": [
            "Epoch 1/50\n",
            "469/469 [==============================] - 86s 162ms/step - loss: nan - acc: 0.0083 - val_loss: nan - val_acc: 0.0056\n",
            "Epoch 2/50\n",
            "469/469 [==============================] - 73s 156ms/step - loss: nan - acc: 0.0053 - val_loss: nan - val_acc: 0.0056\n",
            "Epoch 3/50\n",
            "469/469 [==============================] - 73s 156ms/step - loss: nan - acc: 0.0045 - val_loss: nan - val_acc: 0.0056\n",
            "Epoch 4/50\n",
            "469/469 [==============================] - 73s 156ms/step - loss: nan - acc: 0.0056 - val_loss: nan - val_acc: 0.0056\n",
            "Epoch 5/50\n",
            "469/469 [==============================] - 73s 156ms/step - loss: nan - acc: 0.0037 - val_loss: nan - val_acc: 0.0056\n",
            "Epoch 6/50\n",
            "469/469 [==============================] - 73s 156ms/step - loss: nan - acc: 0.0028 - val_loss: nan - val_acc: 0.0056\n",
            "Epoch 7/50\n",
            "469/469 [==============================] - 73s 156ms/step - loss: nan - acc: 0.0059 - val_loss: nan - val_acc: 0.0056\n",
            "Epoch 8/50\n",
            "469/469 [==============================] - 73s 156ms/step - loss: nan - acc: 0.0044 - val_loss: nan - val_acc: 0.0056\n",
            "Epoch 9/50\n",
            "469/469 [==============================] - 73s 156ms/step - loss: nan - acc: 0.0050 - val_loss: nan - val_acc: 0.0056\n",
            "Epoch 10/50\n",
            "469/469 [==============================] - 73s 156ms/step - loss: nan - acc: 0.0058 - val_loss: nan - val_acc: 0.0056\n",
            "Epoch 11/50\n",
            "469/469 [==============================] - 73s 157ms/step - loss: nan - acc: 0.0050 - val_loss: nan - val_acc: 0.0056\n",
            "Epoch 12/50\n",
            "469/469 [==============================] - 73s 157ms/step - loss: nan - acc: 0.0064 - val_loss: nan - val_acc: 0.0056\n",
            "Epoch 13/50\n",
            "469/469 [==============================] - 73s 157ms/step - loss: nan - acc: 0.0037 - val_loss: nan - val_acc: 0.0056\n",
            "Epoch 14/50\n",
            "469/469 [==============================] - 73s 157ms/step - loss: nan - acc: 0.0056 - val_loss: nan - val_acc: 0.0056\n",
            "Epoch 15/50\n",
            "469/469 [==============================] - 73s 157ms/step - loss: nan - acc: 0.0066 - val_loss: nan - val_acc: 0.0056\n",
            "Epoch 16/50\n",
            "469/469 [==============================] - 73s 156ms/step - loss: nan - acc: 0.0032 - val_loss: nan - val_acc: 0.0056\n",
            "Epoch 17/50\n",
            "469/469 [==============================] - 73s 157ms/step - loss: nan - acc: 0.0047 - val_loss: nan - val_acc: 0.0056\n",
            "Epoch 18/50\n",
            "469/469 [==============================] - 73s 157ms/step - loss: nan - acc: 0.0047 - val_loss: nan - val_acc: 0.0056\n",
            "Epoch 19/50\n",
            "469/469 [==============================] - 73s 156ms/step - loss: nan - acc: 0.0036 - val_loss: nan - val_acc: 0.0056\n",
            "Epoch 20/50\n",
            "469/469 [==============================] - 73s 157ms/step - loss: nan - acc: 0.0042 - val_loss: nan - val_acc: 0.0056\n",
            "Epoch 21/50\n",
            "469/469 [==============================] - 74s 157ms/step - loss: nan - acc: 0.0051 - val_loss: nan - val_acc: 0.0056\n",
            "Epoch 22/50\n",
            "469/469 [==============================] - 74s 157ms/step - loss: nan - acc: 0.0058 - val_loss: nan - val_acc: 0.0056\n",
            "Epoch 23/50\n",
            "469/469 [==============================] - 74s 157ms/step - loss: nan - acc: 0.0050 - val_loss: nan - val_acc: 0.0056\n",
            "Epoch 24/50\n",
            "469/469 [==============================] - 74s 157ms/step - loss: nan - acc: 0.0039 - val_loss: nan - val_acc: 0.0056\n",
            "Epoch 25/50\n",
            "469/469 [==============================] - 74s 157ms/step - loss: nan - acc: 0.0050 - val_loss: nan - val_acc: 0.0056\n",
            "Epoch 26/50\n",
            "  5/469 [..............................] - ETA: 1:07 - loss: nan - acc: 0.0000e+00"
          ],
          "name": "stdout"
        }
      ]
    },
    {
      "cell_type": "code",
      "metadata": {
        "id": "msIsr9zGF9ZQ",
        "colab": {
          "base_uri": "https://localhost:8080/",
          "height": 826
        },
        "outputId": "eefcbf24-c8c1-443a-ab06-490141f3bfc7"
      },
      "source": [
        "import matplotlib.pyplot as plt\n",
        "\n",
        "plt.figure(figsize=(10,10))\n",
        "plt.subplot(121)\n",
        "plt.title('accuracy')\n",
        "plt.plot(m.history['acc'])\n",
        "plt.plot(m.history['val_acc'])\n",
        "plt.legend(['train','val'])\n",
        "\n",
        "plt.subplot(122)\n",
        "plt.title('loss')\n",
        "plt.plot(m.history['loss'])\n",
        "plt.plot(m.history['val_loss'])\n",
        "plt.legend(['train','val'])"
      ],
      "execution_count": 5,
      "outputs": [
        {
          "output_type": "error",
          "ename": "NameError",
          "evalue": "ignored",
          "traceback": [
            "\u001b[0;31m---------------------------------------------------------------------------\u001b[0m",
            "\u001b[0;31mNameError\u001b[0m                                 Traceback (most recent call last)",
            "\u001b[0;32m<ipython-input-5-4d16b20666c6>\u001b[0m in \u001b[0;36m<module>\u001b[0;34m()\u001b[0m\n\u001b[1;32m      4\u001b[0m \u001b[0mplt\u001b[0m\u001b[0;34m.\u001b[0m\u001b[0msubplot\u001b[0m\u001b[0;34m(\u001b[0m\u001b[0;36m121\u001b[0m\u001b[0;34m)\u001b[0m\u001b[0;34m\u001b[0m\u001b[0;34m\u001b[0m\u001b[0m\n\u001b[1;32m      5\u001b[0m \u001b[0mplt\u001b[0m\u001b[0;34m.\u001b[0m\u001b[0mtitle\u001b[0m\u001b[0;34m(\u001b[0m\u001b[0;34m'accuracy'\u001b[0m\u001b[0;34m)\u001b[0m\u001b[0;34m\u001b[0m\u001b[0;34m\u001b[0m\u001b[0m\n\u001b[0;32m----> 6\u001b[0;31m \u001b[0mplt\u001b[0m\u001b[0;34m.\u001b[0m\u001b[0mplot\u001b[0m\u001b[0;34m(\u001b[0m\u001b[0mm\u001b[0m\u001b[0;34m.\u001b[0m\u001b[0mhistory\u001b[0m\u001b[0;34m[\u001b[0m\u001b[0;34m'acc'\u001b[0m\u001b[0;34m]\u001b[0m\u001b[0;34m)\u001b[0m\u001b[0;34m\u001b[0m\u001b[0;34m\u001b[0m\u001b[0m\n\u001b[0m\u001b[1;32m      7\u001b[0m \u001b[0mplt\u001b[0m\u001b[0;34m.\u001b[0m\u001b[0mplot\u001b[0m\u001b[0;34m(\u001b[0m\u001b[0mm\u001b[0m\u001b[0;34m.\u001b[0m\u001b[0mhistory\u001b[0m\u001b[0;34m[\u001b[0m\u001b[0;34m'val_acc'\u001b[0m\u001b[0;34m]\u001b[0m\u001b[0;34m)\u001b[0m\u001b[0;34m\u001b[0m\u001b[0;34m\u001b[0m\u001b[0m\n\u001b[1;32m      8\u001b[0m \u001b[0mplt\u001b[0m\u001b[0;34m.\u001b[0m\u001b[0mlegend\u001b[0m\u001b[0;34m(\u001b[0m\u001b[0;34m[\u001b[0m\u001b[0;34m'train'\u001b[0m\u001b[0;34m,\u001b[0m\u001b[0;34m'val'\u001b[0m\u001b[0;34m]\u001b[0m\u001b[0;34m)\u001b[0m\u001b[0;34m\u001b[0m\u001b[0;34m\u001b[0m\u001b[0m\n",
            "\u001b[0;31mNameError\u001b[0m: name 'm' is not defined"
          ]
        },
        {
          "output_type": "display_data",
          "data": {
            "image/png": "[encoded data removed]",
            "text/plain": [
              "<Figure size 720x720 with 1 Axes>"
            ]
          },
          "metadata": {
            "tags": [],
            "needs_background": "light"
          }
        }
      ]
    },
    {
      "cell_type": "markdown",
      "metadata": {
        "id": "kEZ8OIsWFVkg"
      },
      "source": [
        "Extra layer addition"
      ]
    },
    {
      "cell_type": "code",
      "metadata": {
        "id": "MiBCNx0qFVNK"
      },
      "source": [
        "from sklearn.model_selection import train_test_split\n",
        "X=X[0:5001]\n",
        "Y=Y[0:5001]\n",
        "X_train,X_valid,Y_train,Y_valid=train_test_split(X,Y)\n",
        "X_train=np.asarray(X_train,float)/256\n",
        "Y_train=np.asarray(Y_train)\n",
        "X_valid=np.asarray(X_valid,float)/256\n",
        "Y_valid=np.asarray(Y_valid)\n",
        "from keras.utils import to_categorical\n",
        "from tensorflow.keras import layers\n",
        "from keras.layers import Dense,Conv2D,Flatten,MaxPool2D,Dropout\n",
        "from keras.models import Sequential\n",
        "from tensorflow.keras import activations\n",
        "from tensorflow.keras import regularizers\n",
        "model= Sequential()\n",
        "model.add(Conv2D(kernel_size=(3,3), filters=32, activation='relu', input_shape=(150,150,3),activity_regularizer=regularizers.L2(0.01)))\n",
        "model.add(Dense(20,activation='relu'))\n",
        "model.add(layers.Activation(activations.relu))\n",
        "model.add(Dropout(0.6))\n",
        "model.add(Conv2D(kernel_size = (3,3),filters=64,activation='relu',activity_regularizer=regularizers.L2(0.01)))\n",
        "model.add(MaxPool2D(pool_size=(2,2),strides=(1, 1), padding='valid'))\n",
        "model.add(layers.Activation(activations.sigmoid))\n",
        "model.add(Conv2D(kernel_size=(3,3),filters=128,activation='relu',activity_regularizer=regularizers.L2(0.01)))\n",
        "model.add(MaxPool2D(pool_size=(2,2),strides=(1, 1), padding='valid'))\n",
        "model.add(Dropout(0.5))\n",
        "model.add(Dense(25,activation='relu'))\n",
        "model.add(Conv2D(kernel_size=(3,3),filters=256,activation='relu',activity_regularizer=regularizers.L2(0.01)))\n",
        "model.add(Flatten())\n",
        "model.add(Dropout(0.25))\n",
        "model.add(Dense(61,activation = 'softmax'))\n",
        "    \n",
        "model.compile(loss='sparse_categorical_crossentropy',metrics=['acc'], optimizer='SGD')\n",
        "m = model.fit(X_train,Y_train,epochs=50,batch_size=8,validation_data=(X_valid,Y_valid))"
      ],
      "execution_count": null,
      "outputs": []
    },
    {
      "cell_type": "code",
      "metadata": {
        "id": "dphzguvCF_gk"
      },
      "source": [
        "import matplotlib.pyplot as plt\n",
        "\n",
        "plt.figure(figsize=(10,10))\n",
        "plt.subplot(121)\n",
        "plt.title('accuracy')\n",
        "plt.plot(m.history['acc'])\n",
        "plt.plot(m.history['val_acc'])\n",
        "plt.legend(['train','val'])\n",
        "\n",
        "plt.subplot(122)\n",
        "plt.title('loss')\n",
        "plt.plot(m.history['loss'])\n",
        "plt.plot(m.history['val_loss'])\n",
        "plt.legend(['train','val'])"
      ],
      "execution_count": null,
      "outputs": []
    },
    {
      "cell_type": "markdown",
      "metadata": {
        "id": "_haKhyVlFzUW"
      },
      "source": [
        "Augumentation ??"
      ]
    }
  ]
}