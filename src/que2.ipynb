{
  "nbformat": 4,
  "nbformat_minor": 0,
  "metadata": {
    "colab": {
      "name": "que2",
      "provenance": [],
      "collapsed_sections": []
    },
    "kernelspec": {
      "display_name": "Python 3",
      "name": "python3"
    },
    "accelerator": "GPU"
  },
  "cells": [
    {
      "cell_type": "code",
      "metadata": {
        "colab": {
          "base_uri": "https://localhost:8080/"
        },
        "id": "g6GtSmZ5Osjw",
        "outputId": "0089b560-24f3-48dc-dba8-cd61d6f63637"
      },
      "source": [
        "from google.colab import drive    \n",
        " \n",
        "drive.mount('/content/drive')\n",
        "test_path='/content/drive/MyDrive/test_images'\n",
        "train_path='/content/drive/MyDrive/train_images'\n",
        "train_cpath='/content/drive/MyDrive/train.csv'\n",
        "test_cpath='/content/drive/MyDrive/test.csv'"
      ],
      "execution_count": null,
      "outputs": [
        {
          "output_type": "stream",
          "text": [
            "Drive already mounted at /content/drive; to attempt to forcibly remount, call drive.mount(\"/content/drive\", force_remount=True).\n"
          ],
          "name": "stdout"
        }
      ]
    },
    {
      "cell_type": "code",
      "metadata": {
        "id": "0XR5Kkb7t2Jz"
      },
      "source": [
        "import pandas as pd\n",
        "import numpy as np\n",
        "dataset = pd.read_csv(train_cpath)\n",
        "dataset.values.tolist()\n",
        "L=dataset['ClassName']\n",
        "L1=dataset['ImageId']\n",
        "l=np.unique(np.array(L))\n",
        "l1=np.unique(np.array(L1))\n",
        "img={}\n",
        "cl={}\n",
        "for i in range(len(l)):\n",
        "  cl[i]=l[i]\n",
        "cls_k=list(cl.keys())\n",
        "cls_v=list(cl.values())\n",
        "for i in range(len(dataset)):\n",
        "  img[L1[i]]=cls_k[cls_v.index(L[i])]"
      ],
      "execution_count": null,
      "outputs": []
    },
    {
      "cell_type": "code",
      "metadata": {
        "id": "jxYVIWtYQ4DY"
      },
      "source": [
        "import os\n",
        "import cv2\n",
        "dataset = pd.read_csv(test_cpath)\n",
        "dataset.values.tolist()\n",
        "L=dataset['ImageId']\n",
        "l=list(np.unique(np.array(L)))\n",
        "X_test=[]\n",
        "for i in range(len(dataset)):\n",
        "  path=os.path.join(test_path,l[i])\n",
        "  image=cv2.imread(path,0)\n",
        "  image=cv2.cvtColor(image,cv2.COLOR_GRAY2RGB)\n",
        "  X_test.append((cv2.resize(image,(150,150))))"
      ],
      "execution_count": null,
      "outputs": []
    },
    {
      "cell_type": "code",
      "metadata": {
        "id": "knk7H3wTQjdu"
      },
      "source": [
        "X=[]\n",
        "Y=[]\n",
        "import cv2\n",
        "import os\n",
        "d=0\n",
        "for a,b in img.items():\n",
        "  d=d+1\n",
        "  path=os.path.join(train_path,a)\n",
        "  d\n",
        "  image=cv2.imread(path,0)\n",
        "  image=cv2.cvtColor(image,cv2.COLOR_GRAY2RGB)\n",
        "  X.append(cv2.resize(image,(150,150)))\n",
        "  Y.append(b)"
      ],
      "execution_count": null,
      "outputs": []
    },
    {
      "cell_type": "code",
      "metadata": {
        "colab": {
          "base_uri": "https://localhost:8080/"
        },
        "id": "PQfEP_xcO-cR",
        "outputId": "108fc538-284e-4a77-afac-e74561eb4dd0"
      },
      "source": [
        "import tensorflow.keras as tfk\n",
        "from keras.applications.resnet50 import ResNet50\n",
        "x = tfk.applications.resnet50.preprocess_input(np.array(X[0:5001]))\n",
        "y = tfk.utils.to_categorical(Y[0:5001], 61)\n",
        "X_test = tfk.applications.resnet50.preprocess_input(np.array(X_test))\n",
        "\n",
        "\n",
        "baseModel = tfk.applications.ResNet50(include_top=False, weights=\"imagenet\", input_tensor= tfk.Input(shape=(150, 150, 3)))\n",
        "for layer in baseModel.layers[:143]:\n",
        "  layer.trainable = False\n",
        "from sklearn.model_selection import train_test_split\n",
        "\n",
        "X_train,X_t,Y_train,Y_t=train_test_split(x,y)\n",
        "X_train=np.asarray(X_train,float)/256\n",
        "Y_train=np.asarray(Y_train)\n",
        "X_t=np.asarray(X_t,float)/256\n",
        "Y_t=np.asarray(Y_t)\n",
        "from keras.utils import to_categorical\n",
        "from tensorflow.keras import layers\n",
        "from keras.layers import Dense,Conv2D,Flatten,MaxPool2D,Dropout\n",
        "from keras.models import Sequential\n",
        "from tensorflow.keras import activations\n",
        "from tensorflow.keras import regularizers\n",
        "model= Sequential()\n",
        "model.add(Conv2D(kernel_size=(3,3), filters=32, activation='relu', input_shape=(150,150,3),activity_regularizer=regularizers.L2(0.01)))\n",
        "model.add(Dense(20,activation='relu'))\n",
        "model.add(layers.Activation(activations.relu))\n",
        "model.add(Conv2D(kernel_size = (3,3),filters=64,activation='relu',activity_regularizer=regularizers.L2(0.01)))\n",
        "model.add(MaxPool2D(pool_size=(2,2),strides=(1, 1), padding='valid'))\n",
        "model.add(Conv2D(kernel_size=(3,3),filters=128,activation='relu',activity_regularizer=regularizers.L2(0.01)))\n",
        "model.add(MaxPool2D(pool_size=(2,2),strides=(1, 1), padding='valid'))\n",
        "model.add(Conv2D(kernel_size=(3,3),filters=256,activation='relu',activity_regularizer=regularizers.L2(0.01)))\n",
        "model.add(Flatten())\n",
        "model.add(Dense(61,activation = 'softmax'))\n",
        "    \n",
        "model.compile(loss='sparse_categorical_crossentropy',metrics=['acc'], optimizer='SGD')\n",
        "\n",
        "\n",
        "model.fit(X_train, Y_train, batch_size=32, epochs=50, verbose=1,validation_data=(X_t, Y_t))\n"
      ],
      "execution_count": null,
      "outputs": [
        {
          "output_type": "stream",
          "text": [
            "Epoch 1/50\n"
          ],
          "name": "stdout"
        }
      ]
    },
    {
      "cell_type": "code",
      "metadata": {
        "id": "BFLJ3OafXgct"
      },
      "source": [
        "from sklearn.metrics import classification_report\n",
        "y_pred = model.predict(X_Test, batch_size=32, verbose=1)\n",
        "y_pred_bool = np.argmax(y_pred, axis=1)\n",
        "y_pred_bool_cat = tfk.utils.to_categorical(y_pred_bool, 61)\n",
        "print(classification_report(y_test, y_pred_bool_cat))\n",
        "test_dataset = pd.read_csv(testDataPath)\n",
        "finalLabels = test_dataset.copy()\n",
        "predLabels = []\n",
        "for val in y_pred_bool:\n",
        "  predLabels.append(train_classes[val])\n",
        "finalLabels['ClassName'] = pd.Series(predLabels, index=finalLabels.index)\n",
        "finalLabels.to_csv('submit.csv', header=True, index=False)\n"
      ],
      "execution_count": null,
      "outputs": []
    }
  ]
}